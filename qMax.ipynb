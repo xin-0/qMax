{
 "cells": [
  {
   "cell_type": "code",
   "execution_count": 1,
   "metadata": {},
   "outputs": [],
   "source": [
    "from qiskit import QuantumCircuit, QuantumRegister, ClassicalRegister, Aer, execute\n",
    "from qiskit.circuit.quantumcircuit import QubitSpecifier\n",
    "from qiskit.circuit import Gate\n",
    "from qiskit.visualization import plot_histogram\n",
    "from typing import List\n",
    "\n",
    "import numpy as np\n",
    "import random\n",
    "\n",
    "from ryQFTAdder import *"
   ]
  },
  {
   "attachments": {},
   "cell_type": "markdown",
   "metadata": {},
   "source": [
    "# Find the Largest Number (basic ver.)\n",
    "\n",
    "This part demonstrate the quantum algorithm to solve task 1\n",
    "\n",
    "## QRAM\n",
    "\n",
    "We begin with defining how the data in the list can be accessed quantumly. Though a QRAM is not required for solving the original task 1, it will be used nontrivially when we extent the problem in the next section.\n",
    "\n",
    "We want a circuit $U_f$ such that:\n",
    "\n",
    "$$\n",
    "\\ket{i}\\ket{0} \\xrightarrow{U_f} \\ket{i}\\ket{f(i)}\n",
    "$$\n",
    "\n",
    "where $i$ is the index and $f(i)$ gives the ith number in the list.\n",
    "\n",
    "For each integer in the list, we choose basic/state encoding, the highest bit is sign bit. For example, 5 and -6 can be encoded as:\n",
    "\n",
    "$$\\begin{align*}\n",
    "5  &\\rightarrow \\ket{00101} \\\\\n",
    "-6 &\\rightarrow \\ket{11010}      \n",
    "\\end{align*}$$\n",
    "\n",
    "4 bits is enough to hold 5 and -6. Since we'll later do addition and subtraction between two numbers in the list, we use 1 extra bit to prevent overflow. The indeices will be encoded by state encoding and we encode the them into the ctrl bits of mcx gate. The control bit will be controlled by either '0' or '1' based on the state encoding of the index on that position."
   ]
  },
  {
   "cell_type": "code",
   "execution_count": 2,
   "metadata": {},
   "outputs": [],
   "source": [
    "\"\"\"\n",
    "Here is a general method to convert a list of number into quantum data.\n",
    "\n",
    "In this function, we used np.max to find the bound for the list, \n",
    "but such information is not encoded into the QRAM so the algorithm that we'll \n",
    "present in a moment to solve the problem will not lost any generality. And in practice \n",
    "the bound on integer is always predetermined by its type like 'int' in C usually represents \n",
    "integers from -2147483648 to 2147483647. The reason that we choose to dynamically determine \n",
    "the number of qubit is for compactness and clarity.\n",
    "\n",
    "\"\"\"\n",
    "\n",
    "def toQRAM(\n",
    "    data_list: List[int],\n",
    "    num_idx_cbit: int = None,\n",
    "    num_data_cbit: int = None,\n",
    "    apply_H: bool = False\n",
    ") -> QuantumCircuit:\n",
    "    \"\"\"\n",
    "        returns the circuit U_f such that U_f|i>|0> = |i>|x_i>\n",
    "\n",
    "        Args:\n",
    "            data_list:\n",
    "                the list of number needs to be encoded\n",
    "\n",
    "            num_data_cbit:\n",
    "                size of the classical register of for the data qubit\n",
    "\n",
    "            apply_H:\n",
    "                if set to `True` will add Hadamard gate on all index qubits\n",
    "                before the qram circuit\n",
    "    \"\"\"\n",
    "    \n",
    "    # first construct qram as a gate \n",
    "\n",
    "    # define minimum number of qubit to represent all the integers in the list\n",
    "    bound = np.max(np.abs(data_list))\n",
    "    num_qubit_i = int(np.ceil(np.log2(len(data_list))))\n",
    "    num_qubit_xi = len(bin(bound)[2:]) + 2 # one for sign and one for preventing overflow\n",
    "\n",
    "    if None == num_idx_cbit:\n",
    "        num_idx_cbit = num_qubit_i\n",
    "    if None == num_data_cbit:\n",
    "        num_data_cbit = num_qubit_xi\n",
    "    \n",
    "    # define index and data quantum registers\n",
    "    reg_i  = QuantumRegister(num_qubit_i)\n",
    "    reg_xi = QuantumRegister(num_qubit_xi)\n",
    "    \n",
    "    qc = QuantumCircuit(reg_i, reg_xi, name=\"QRAM\")\n",
    "\n",
    "    for i, x in enumerate(data_list):\n",
    "        # convert index into binary and agree with the number of index qubit\n",
    "        i_bin = format(i, f'0{num_qubit_i}b') \n",
    "        # convert x_i into binary and agree with the number of data qubit\n",
    "        x_bin = bin(x & int('1' * num_qubit_xi, 2))[2:]\n",
    "\n",
    "        # determine which control bit is controlled by '0'\n",
    "        for i_bin_idx, i_bin_symbol in enumerate(reversed(i_bin)):\n",
    "            if '0' == i_bin_symbol:\n",
    "                qc.x(reg_i[i_bin_idx])\n",
    "        \n",
    "        # encode x_i\n",
    "        for x_bin_idx, x_bin_symbol in enumerate(reversed(x_bin)):\n",
    "            if '1' == x_bin_symbol:\n",
    "                qc.mcx(reg_i, reg_xi[x_bin_idx])\n",
    "        \n",
    "        # uncompute for the control bit\n",
    "        for i_bin_idx, i_bin_symbol in enumerate(reversed(i_bin)):\n",
    "            if '0' == i_bin_symbol:\n",
    "                qc.x(reg_i[i_bin_idx])\n",
    "\n",
    "    # define qram as a gate\n",
    "    qram_gate = qc.to_gate()\n",
    "\n",
    "    # using the qram gate, construct the full circuit \n",
    "    q_i  = QuantumRegister(num_qubit_i, \"q_i\")\n",
    "    q_xi = QuantumRegister(num_qubit_xi, \"q_xi\")\n",
    "    c_i = ClassicalRegister(num_idx_cbit, \"i\")\n",
    "    c_xi = ClassicalRegister(num_data_cbit, \"xi\") \n",
    "\n",
    "    full_circ = QuantumCircuit(q_i, q_xi)\n",
    "    if 0 != num_idx_cbit:\n",
    "        full_circ.add_register(c_i)\n",
    "    if 0 != num_data_cbit:\n",
    "        full_circ.add_register(c_xi)\n",
    "    \n",
    "    if apply_H:\n",
    "        full_circ.h(q_i)\n",
    "\n",
    "    full_circ.append(qram_gate, range(full_circ.num_qubits))\n",
    "\n",
    "    return full_circ"
   ]
  },
  {
   "attachments": {},
   "cell_type": "markdown",
   "metadata": {},
   "source": [
    "For example the list [-3,2,5,-1] in the qram form will be:"
   ]
  },
  {
   "cell_type": "code",
   "execution_count": 3,
   "metadata": {},
   "outputs": [
    {
     "data": {
      "text/html": [
       "<pre style=\"word-wrap: normal;white-space: pre;background: #fff0;line-height: 1.1;font-family: &quot;Courier New&quot;,Courier,monospace\">        ┌───┐                    ┌───┐          ┌───┐          ┌───┐     \n",
       " q_i_0: ┤ X ├──■────■────■────■──┤ X ├───────■──┤ X ├──■────■──┤ X ├──■──\n",
       "        ├───┤  │    │    │    │  ├───┤┌───┐  │  ├───┤  │    │  └───┘  │  \n",
       " q_i_1: ┤ X ├──■────■────■────■──┤ X ├┤ X ├──■──┤ X ├──■────■─────────■──\n",
       "        └───┘┌─┴─┐  │    │    │  └───┘└───┘  │  └───┘┌─┴─┐  │       ┌─┴─┐\n",
       "q_xi_0: ─────┤ X ├──┼────┼────┼──────────────┼───────┤ X ├──┼───────┤ X ├\n",
       "             └───┘  │    │    │            ┌─┴─┐     └───┘  │       └───┘\n",
       "q_xi_1: ────────────┼────┼────┼────────────┤ X ├────────────┼────────────\n",
       "                  ┌─┴─┐  │    │            └───┘          ┌─┴─┐          \n",
       "q_xi_2: ──────────┤ X ├──┼────┼───────────────────────────┤ X ├──────────\n",
       "                  └───┘┌─┴─┐  │                           └───┘          \n",
       "q_xi_3: ───────────────┤ X ├──┼──────────────────────────────────────────\n",
       "                       └───┘┌─┴─┐                                        \n",
       "q_xi_4: ────────────────────┤ X ├────────────────────────────────────────\n",
       "                            └───┘                                        \n",
       "   i: 2/═════════════════════════════════════════════════════════════════\n",
       "                                                                         \n",
       "  xi: 5/═════════════════════════════════════════════════════════════════\n",
       "                                                                         </pre>"
      ],
      "text/plain": [
       "        ┌───┐                    ┌───┐          ┌───┐          ┌───┐     \n",
       " q_i_0: ┤ X ├──■────■────■────■──┤ X ├───────■──┤ X ├──■────■──┤ X ├──■──\n",
       "        ├───┤  │    │    │    │  ├───┤┌───┐  │  ├───┤  │    │  └───┘  │  \n",
       " q_i_1: ┤ X ├──■────■────■────■──┤ X ├┤ X ├──■──┤ X ├──■────■─────────■──\n",
       "        └───┘┌─┴─┐  │    │    │  └───┘└───┘  │  └───┘┌─┴─┐  │       ┌─┴─┐\n",
       "q_xi_0: ─────┤ X ├──┼────┼────┼──────────────┼───────┤ X ├──┼───────┤ X ├\n",
       "             └───┘  │    │    │            ┌─┴─┐     └───┘  │       └───┘\n",
       "q_xi_1: ────────────┼────┼────┼────────────┤ X ├────────────┼────────────\n",
       "                  ┌─┴─┐  │    │            └───┘          ┌─┴─┐          \n",
       "q_xi_2: ──────────┤ X ├──┼────┼───────────────────────────┤ X ├──────────\n",
       "                  └───┘┌─┴─┐  │                           └───┘          \n",
       "q_xi_3: ───────────────┤ X ├──┼──────────────────────────────────────────\n",
       "                       └───┘┌─┴─┐                                        \n",
       "q_xi_4: ────────────────────┤ X ├────────────────────────────────────────\n",
       "                            └───┘                                        \n",
       "   i: 2/═════════════════════════════════════════════════════════════════\n",
       "                                                                         \n",
       "  xi: 5/═════════════════════════════════════════════════════════════════\n",
       "                                                                         "
      ]
     },
     "execution_count": 3,
     "metadata": {},
     "output_type": "execute_result"
    }
   ],
   "source": [
    "ex_list = [-3, 2, 5, 1]\n",
    "\n",
    "qram_circ = toQRAM(ex_list)\n",
    "qram_circ.decompose().draw()"
   ]
  },
  {
   "attachments": {},
   "cell_type": "markdown",
   "metadata": {},
   "source": [
    "And we can confirm the qram indeed stores the desired data by making queries on all possible indices:"
   ]
  },
  {
   "cell_type": "code",
   "execution_count": 4,
   "metadata": {},
   "outputs": [
    {
     "data": {
      "text/html": [
       "<pre style=\"word-wrap: normal;white-space: pre;background: #fff0;line-height: 1.1;font-family: &quot;Courier New&quot;,Courier,monospace\">        ┌───┐┌───────┐┌─┐                  \n",
       " q_i_0: ┤ H ├┤0      ├┤M├──────────────────\n",
       "        ├───┤│       │└╥┘┌─┐               \n",
       " q_i_1: ┤ H ├┤1      ├─╫─┤M├───────────────\n",
       "        └───┘│       │ ║ └╥┘┌─┐            \n",
       "q_xi_0: ─────┤2      ├─╫──╫─┤M├────────────\n",
       "             │       │ ║  ║ └╥┘┌─┐         \n",
       "q_xi_1: ─────┤3 QRAM ├─╫──╫──╫─┤M├─────────\n",
       "             │       │ ║  ║  ║ └╥┘┌─┐      \n",
       "q_xi_2: ─────┤4      ├─╫──╫──╫──╫─┤M├──────\n",
       "             │       │ ║  ║  ║  ║ └╥┘┌─┐   \n",
       "q_xi_3: ─────┤5      ├─╫──╫──╫──╫──╫─┤M├───\n",
       "             │       │ ║  ║  ║  ║  ║ └╥┘┌─┐\n",
       "q_xi_4: ─────┤6      ├─╫──╫──╫──╫──╫──╫─┤M├\n",
       "             └───────┘ ║  ║  ║  ║  ║  ║ └╥┘\n",
       "   i: 2/═══════════════╩══╩══╬══╬══╬══╬══╬═\n",
       "                       0  1  ║  ║  ║  ║  ║ \n",
       "  xi: 5/═════════════════════╩══╩══╩══╩══╩═\n",
       "                             0  1  2  3  4 </pre>"
      ],
      "text/plain": [
       "        ┌───┐┌───────┐┌─┐                  \n",
       " q_i_0: ┤ H ├┤0      ├┤M├──────────────────\n",
       "        ├───┤│       │└╥┘┌─┐               \n",
       " q_i_1: ┤ H ├┤1      ├─╫─┤M├───────────────\n",
       "        └───┘│       │ ║ └╥┘┌─┐            \n",
       "q_xi_0: ─────┤2      ├─╫──╫─┤M├────────────\n",
       "             │       │ ║  ║ └╥┘┌─┐         \n",
       "q_xi_1: ─────┤3 QRAM ├─╫──╫──╫─┤M├─────────\n",
       "             │       │ ║  ║  ║ └╥┘┌─┐      \n",
       "q_xi_2: ─────┤4      ├─╫──╫──╫──╫─┤M├──────\n",
       "             │       │ ║  ║  ║  ║ └╥┘┌─┐   \n",
       "q_xi_3: ─────┤5      ├─╫──╫──╫──╫──╫─┤M├───\n",
       "             │       │ ║  ║  ║  ║  ║ └╥┘┌─┐\n",
       "q_xi_4: ─────┤6      ├─╫──╫──╫──╫──╫──╫─┤M├\n",
       "             └───────┘ ║  ║  ║  ║  ║  ║ └╥┘\n",
       "   i: 2/═══════════════╩══╩══╬══╬══╬══╬══╬═\n",
       "                       0  1  ║  ║  ║  ║  ║ \n",
       "  xi: 5/═════════════════════╩══╩══╩══╩══╩═\n",
       "                             0  1  2  3  4 "
      ]
     },
     "execution_count": 4,
     "metadata": {},
     "output_type": "execute_result"
    }
   ],
   "source": [
    "query_circ = QuantumCircuit(qram_circ.qregs[0])\n",
    "# equal superposition on all indices\n",
    "query_circ.h(query_circ.qregs[0])\n",
    "\n",
    "# add the query in fron of the qram\n",
    "query_circ = qram_circ.compose(query_circ, qram_circ.qregs[0], front=True)\n",
    "# query_circ.append(qAdder(-1, query_circ.qregs[1].size), query_circ.qregs[1])\n",
    "\n",
    "# measure and get results of the queries\n",
    "query_circ.measure(query_circ.qregs[0], query_circ.cregs[0])\n",
    "query_circ.measure(query_circ.qregs[1], query_circ.cregs[1])\n",
    "\n",
    "query_circ.draw()"
   ]
  },
  {
   "cell_type": "code",
   "execution_count": 5,
   "metadata": {},
   "outputs": [
    {
     "name": "stdout",
     "output_type": "stream",
     "text": [
      "Original list:  [-3, 2, 5, 1]\n",
      "Query raw data:  {'11101 00': 268, '00101 10': 237, '00010 01': 266, '00001 11': 253}\n",
      "Decoded result: \n",
      "f[0]: -3\n",
      "f[2]: 5\n",
      "f[1]: 2\n",
      "f[3]: 1\n"
     ]
    }
   ],
   "source": [
    "print(\"Original list: \", ex_list)\n",
    "\n",
    "# run the circuit to get the result of the queries\n",
    "simulator = Aer.get_backend('qasm_simulator')\n",
    "result = execute(query_circ, simulator).result()\n",
    "counts = result.get_counts()\n",
    "# raw output in binary\n",
    "print(\"Query raw data: \", counts)\n",
    "\n",
    "# extract original classical data \n",
    "print(\"Decoded result: \")\n",
    "for xi_i in counts:\n",
    "    xi_bin, i_bin = xi_i.split(\" \")\n",
    "    \n",
    "    # have to consider the sign when convert back into integer \n",
    "    sign_bit = xi_bin[0]\n",
    "    xi = int(xi_bin[1:], 2)\n",
    "    if '1' == sign_bit:\n",
    "        xi = -(2**(len(xi_bin)-1) - xi)\n",
    "    # index is unsigned\n",
    "    i = int(i_bin, 2)\n",
    "\n",
    "    print(f\"f[{i}]: {xi}\")"
   ]
  },
  {
   "attachments": {},
   "cell_type": "markdown",
   "metadata": {},
   "source": [
    "We can see the recovered data is exactly the same as the original list"
   ]
  },
  {
   "attachments": {},
   "cell_type": "markdown",
   "metadata": {},
   "source": [
    "## Quantum-classical Adder\n",
    "\n",
    "With classically given integer X, positive or negative, we want the adder to do:\n",
    "\n",
    "$$\n",
    "    \\ket{n} \\xrightarrow{} \\ket{n + X}\n",
    "$$\n",
    "\n",
    "There are many different methods, here we choose an implementation in fourier basis. Both the fourier transform defined by y-rotation and the addition circuit in such basis are proposed by Rich Rines & Isaac Chuang^[1]. Detailed implementation is in `ryQFTAdder.py`.\n",
    "\n",
    "[1]: Rines, R., & Chuang, I. (2018). High Performance Quantum Modular Multipliers. [arXiv:1801.01081](https://arxiv.org/abs/1801.01081)."
   ]
  },
  {
   "attachments": {},
   "cell_type": "markdown",
   "metadata": {},
   "source": [
    "## Quantum Comparator\n",
    "\n",
    "Now we want to implement a gate $U_{a<X}$ that encode the comparison result into phase:\n",
    "- partial version\n",
    "$$\n",
    "U_{a<X,p}\\ket{a} = (-1)^{a<X}\\ket{a-X}\n",
    "$$ \n",
    "\n",
    "- complete version\n",
    "$$\n",
    "U_{a<X,c}\\ket{a} = (-1)^{a<X}\\ket{a}\n",
    "$$\n",
    "\n",
    "They only differ by a quantum addition of `X`. The key idea for building both is to apply a `Z` gate on the highest data qubit after adding `-X` to $\\ket{a}$. When the highest bit of `(a - X)` is $1$, $a-X<0$, $a<X$, $-1$ phase is added. When the highest bit of `(a - X)` is $0$, $Z\\ket{0}=\\ket{0}$, no phase is added."
   ]
  },
  {
   "cell_type": "code",
   "execution_count": 6,
   "metadata": {},
   "outputs": [],
   "source": [
    "def complete_comparator(\n",
    "    X: int,\n",
    "    circuit: QuantumCircuit,\n",
    "    target_reg: QuantumRegister,\n",
    "    invert_sign: bool = False\n",
    "):\n",
    "    \"\"\"\n",
    "        |a>  ---> (-1)^{(a<X)} |a>\n",
    "\n",
    "        invert_sign: `bool`\n",
    "            If set to `True`, (-1) phase will be added only when `a>=X`.\n",
    "            If set to `False`, (-1) phase will be added only when `a<X`.\n",
    "\n",
    "    \"\"\"\n",
    "\n",
    "    # |a> to | a - X >\n",
    "    circuit.append(qAdder(-X, target_reg.size), target_reg)\n",
    "\n",
    "    if invert_sign:\n",
    "        circuit.x(target_reg[-1])\n",
    "\n",
    "    circuit.z(target_reg[-1])\n",
    "\n",
    "    if invert_sign:\n",
    "        circuit.x(target_reg[-1])\n",
    "\n",
    "    circuit.append(qAdder(X, target_reg.size), target_reg)\n",
    "\n",
    "    return"
   ]
  },
  {
   "attachments": {},
   "cell_type": "markdown",
   "metadata": {},
   "source": [
    "### controlled quantum comparator\n",
    "\n",
    "The controlled quantum comparator is a unitary, $\\text{c-}U_{a<X}$, that applys quantum comparator when the control bit is $1$:\n",
    "\n",
    "- partial version\n",
    "$$\n",
    "\\text{c-}U_{a<X,p}\\ket{i}\\ket{a} = (-1)^{(a<X)\\cdot i}\\ket{i}\\ket{a-X}\n",
    "$$\n",
    "\n",
    "- full version\n",
    "$$\n",
    "\\text{c-}U_{a<X,c}\\ket{i}\\ket{a} = (-1)^{(a<X)\\cdot i}\\ket{i}\\ket{a}\n",
    "$$\n",
    "\n",
    "to get a controlled comparator, we only have to change the `Z` gate in the quantum comparator to a `CZ` gate controlled by the control bit $\\ket i$."
   ]
  },
  {
   "cell_type": "code",
   "execution_count": 7,
   "metadata": {},
   "outputs": [],
   "source": [
    "def partial_ctl_comparator(\n",
    "    X: int,\n",
    "    circuit: QuantumCircuit,\n",
    "    ctl_qubit: QubitSpecifier,\n",
    "    target_reg: QuantumRegister,\n",
    "    invert_sign: bool = False\n",
    "):\n",
    "    \"\"\"\n",
    "        |i>|a>  ---> (-1)^{(a<X)*i} |a - X >\n",
    "\n",
    "        invert_sign: `bool`\n",
    "            If set to `True`, (-1) phase will be added only when `a>=X`.\n",
    "            If set to `False`, (-1) phase will be added only when `a<X`.\n",
    "\n",
    "    \"\"\"\n",
    "\n",
    "    # |a> to | a - X >\n",
    "    circuit.append(qAdder(-X, target_reg.size), target_reg)\n",
    "    if invert_sign:\n",
    "        circuit.x(target_reg[-1])\n",
    "    circuit.cz(ctl_qubit, target_reg[-1])\n",
    "\n",
    "    return\n",
    "\n",
    "def complete_ctl_comparator(\n",
    "    X: int,\n",
    "    circuit: QuantumCircuit,\n",
    "    ctl_qubit: QubitSpecifier,\n",
    "    target_reg: QuantumRegister,\n",
    "    invert_sign: bool = False\n",
    "):\n",
    "    \"\"\"\n",
    "        |i>|a>  ---> (-1)^{(a<X)*i} |a>\n",
    "\n",
    "        invert_sign: `bool`\n",
    "            If set to `True`, (-1) phase will be added only when `a>=X`.\n",
    "            If set to `False`, (-1) phase will be added only when `a<X`.\n",
    "\n",
    "    \"\"\"\n",
    "\n",
    "    # |a> to | a - X >\n",
    "    circuit.append(qAdder(-X, target_reg.size), target_reg)\n",
    "\n",
    "    if invert_sign:\n",
    "        circuit.x(target_reg[-1])\n",
    "\n",
    "    circuit.cz(ctl_qubit, target_reg[-1])\n",
    "\n",
    "    if invert_sign:\n",
    "        circuit.x(target_reg[-1])\n",
    "\n",
    "    circuit.append(qAdder(X, target_reg.size), target_reg)\n",
    "\n",
    "    return"
   ]
  },
  {
   "attachments": {},
   "cell_type": "markdown",
   "metadata": {},
   "source": [
    "Here is an example of a controlled partial comparator circuit. The result of `(-5 < -2)` will be stored in control qubit's phase when the control qubit is $\\ket{1}$."
   ]
  },
  {
   "cell_type": "code",
   "execution_count": 8,
   "metadata": {},
   "outputs": [
    {
     "data": {
      "text/html": [
       "<pre style=\"word-wrap: normal;white-space: pre;background: #fff0;line-height: 1.1;font-family: &quot;Courier New&quot;,Courier,monospace\">        ┌───────┐ ░               \n",
       "   q_i: ┤0      ├─░───────────────\n",
       "        │       │ ░ ┌─────────┐   \n",
       "q_xi_0: ┤1      ├─░─┤0        ├───\n",
       "        │       │ ░ │         │   \n",
       "q_xi_1: ┤2      ├─░─┤1        ├───\n",
       "        │  QRAM │ ░ │         │   \n",
       "q_xi_2: ┤3      ├─░─┤2 add(2) ├───\n",
       "        │       │ ░ │         │   \n",
       "q_xi_3: ┤4      ├─░─┤3        ├───\n",
       "        │       │ ░ │         │   \n",
       "q_xi_4: ┤5      ├─░─┤4        ├─■─\n",
       "        └───────┘ ░ └─────────┘ │ \n",
       "   ctl: ────────────────────────■─\n",
       "                                  </pre>"
      ],
      "text/plain": [
       "        ┌───────┐ ░               \n",
       "   q_i: ┤0      ├─░───────────────\n",
       "        │       │ ░ ┌─────────┐   \n",
       "q_xi_0: ┤1      ├─░─┤0        ├───\n",
       "        │       │ ░ │         │   \n",
       "q_xi_1: ┤2      ├─░─┤1        ├───\n",
       "        │  QRAM │ ░ │         │   \n",
       "q_xi_2: ┤3      ├─░─┤2 add(2) ├───\n",
       "        │       │ ░ │         │   \n",
       "q_xi_3: ┤4      ├─░─┤3        ├───\n",
       "        │       │ ░ │         │   \n",
       "q_xi_4: ┤5      ├─░─┤4        ├─■─\n",
       "        └───────┘ ░ └─────────┘ │ \n",
       "   ctl: ────────────────────────■─\n",
       "                                  "
      ]
     },
     "execution_count": 8,
     "metadata": {},
     "output_type": "execute_result"
    }
   ],
   "source": [
    "test_comp_circ = toQRAM([-5, 1], 0, 0)\n",
    "test_comp_circ.barrier()\n",
    "test_comp_circ.add_register(QuantumRegister(1, name=\"ctl\"))\n",
    "partial_ctl_comparator(\n",
    "    X = -2,\n",
    "    circuit= test_comp_circ,\n",
    "    ctl_qubit= test_comp_circ.qregs[-1][0],\n",
    "    target_reg= test_comp_circ.qregs[1]\n",
    ")\n",
    "\n",
    "test_comp_circ.draw()"
   ]
  },
  {
   "attachments": {},
   "cell_type": "markdown",
   "metadata": {},
   "source": [
    "## Solution\n",
    "\n",
    "The general idea is to implement a variation of the Deutsch's Algorithm. We first put $\\ket 0$ to superposition: $H\\ket{0}\\rightarrow {1\\over\\sqrt{2}}(\\ket{0}+\\ket{1})$. Then we can use controlled quantum comparator and another hadamard gate to exract the value of `(a < b)`."
   ]
  },
  {
   "attachments": {},
   "cell_type": "markdown",
   "metadata": {},
   "source": [
    "### algorithm\n",
    "\n",
    "Now we have all the ingredients. Here's the algorithm to find the largest number from a list two integers `[a, b]` :\n",
    "\n",
    "1. Let the index qubit in the default $\\ket 0$ state. Apply qram circuit for the list `[a, b]`.\n",
    "2. Use an extra qubit in $\\ket{+}$ state to apply a (partial) controlled quantum comparator with `X = b` on the data register of the qram.\n",
    "3. Apply `H` on the extra qubit.\n",
    "4. Measure the extra qubit.\n",
    "5. If the measurement result is `1`, `b` is the largest. If the measurement result is `0`, `a` is the largest."
   ]
  },
  {
   "attachments": {},
   "cell_type": "markdown",
   "metadata": {},
   "source": [
    "### explanation\n",
    "\n",
    "$$ \n",
    "\\ket{0}\\ket{a} \n",
    "\\xrightarrow{H} {1\\over\\sqrt{2}}(\\ket{0} + \\ket{1})\\ket{a} \n",
    "\\xrightarrow{cU_{a<b,p}} {1\\over\\sqrt{2}}(\\ket{0} +(-1)^{a<b}\\ket{1})\\ket{a-b}\n",
    "\\xrightarrow{H} \\ket{a<b}\\ket{a-b}\n",
    "$$"
   ]
  },
  {
   "attachments": {},
   "cell_type": "markdown",
   "metadata": {},
   "source": [
    "### analysis\n",
    "\n",
    "- The success rate for this algorithm is $1$ and we only have to run the quantum circuit for once.\n",
    "- The number of qubit required for the algorithm is $O(\\log(\\max(a,b)))$ due to the implementation of qram.\n",
    "- This algorithm works for all kinds of number. Because the qram, quantum-classical adder and the quantum comparator work for all integers."
   ]
  },
  {
   "attachments": {},
   "cell_type": "markdown",
   "metadata": {},
   "source": [
    "### implementation\n"
   ]
  },
  {
   "cell_type": "code",
   "execution_count": 9,
   "metadata": {},
   "outputs": [],
   "source": [
    "def find_the_largest_number(a, b, show_process: bool = False) -> int:\n",
    "\n",
    "    num_list = [a,b]\n",
    "\n",
    "    # step 1. |0>|a>\n",
    "    qc = toQRAM(num_list, 0, 0)\n",
    "\n",
    "    # step 2. |0>|a>(|0> + |1>)/√2  --> |0>|(a - b)>(|0> + (-1)^(a<b)|1>)/√2\n",
    "    qc.add_register(QuantumRegister(1, name= \"comp\"))\n",
    "    qc.h(qc.qregs[-1])\n",
    "    qc.add_register(ClassicalRegister(1, name= \"a<b\"))\n",
    "\n",
    "    partial_ctl_comparator(\n",
    "        X          = b,\n",
    "        circuit    = qc,\n",
    "        ctl_qubit  = qc.qregs[-1][0],\n",
    "        target_reg = qc.qregs[1]\n",
    "    )\n",
    "\n",
    "    # step 3. |0>|(a - b)>(|0> + (-1)^(a<b) |1>)/√2 --> |0>|(a - b)>|(a<b)>\n",
    "    qc.h(qc.qregs[-1])\n",
    "\n",
    "    # step 4. get measurement result of (b>a)\n",
    "    qc.measure(qc.qregs[-1], qc.cregs[-1])\n",
    "    # we only need to run the circuit once\n",
    "    backend = Aer.get_backend('qasm_simulator')\n",
    "    comp_result = execute(qc, backend,shots=1).result().get_counts()\n",
    "    aLb = comp_result.most_frequent()[0]\n",
    "\n",
    "    # optional print\n",
    "    if show_process:\n",
    "        print(qc)\n",
    "        print(\"raw data: \", comp_result)\n",
    "        print(f\"a<b: {aLb}\")\n",
    "\n",
    "    # step 5. decide which one is the largest\n",
    "    if '1' == aLb:\n",
    "        return b\n",
    "\n",
    "    return a"
   ]
  },
  {
   "attachments": {},
   "cell_type": "markdown",
   "metadata": {},
   "source": [
    "### some test cases"
   ]
  },
  {
   "cell_type": "code",
   "execution_count": 10,
   "metadata": {},
   "outputs": [
    {
     "name": "stdout",
     "output_type": "stream",
     "text": [
      "        ┌───────┐                      \n",
      "   q_i: ┤0      ├──────────────────────\n",
      "        │       │┌─────────┐           \n",
      "q_xi_0: ┤1      ├┤0        ├───────────\n",
      "        │       ││         │           \n",
      "q_xi_1: ┤2      ├┤1        ├───────────\n",
      "        │  QRAM ││         │           \n",
      "q_xi_2: ┤3      ├┤2 add(6) ├───────────\n",
      "        │       ││         │           \n",
      "q_xi_3: ┤4      ├┤3        ├───────────\n",
      "        │       ││         │           \n",
      "q_xi_4: ┤5      ├┤4        ├─■─────────\n",
      "        └─┬───┬─┘└─────────┘ │ ┌───┐┌─┐\n",
      "  comp: ──┤ H ├──────────────■─┤ H ├┤M├\n",
      "          └───┘                └───┘└╥┘\n",
      " a<b: 1/═════════════════════════════╩═\n",
      "                                     0 \n",
      "raw data:  {'0': 1}\n",
      "a<b: 0\n"
     ]
    },
    {
     "data": {
      "text/plain": [
       "5"
      ]
     },
     "execution_count": 10,
     "metadata": {},
     "output_type": "execute_result"
    }
   ],
   "source": [
    "find_the_largest_number(5, -6, show_process=True)"
   ]
  },
  {
   "cell_type": "code",
   "execution_count": 11,
   "metadata": {},
   "outputs": [],
   "source": [
    "def test_find_the_largest_number(\n",
    "    int_range: int,\n",
    "    num_tests: int\n",
    "):  \n",
    "    \"\"\"\n",
    "        For two randomly generated integers in range `[-int_range, int_range]`, run the quantum algorithm vs the classical max function\n",
    "        to confirm the result is correct. The test will be run for `num_tests` times.\n",
    "    \"\"\"\n",
    "    print(\"Case a = b:\")\n",
    "    for i in range(num_tests):\n",
    "        a = random.randint(-int_range, int_range)\n",
    "        b = a\n",
    "\n",
    "        qMax = find_the_largest_number(a,b)\n",
    "        cMax = max(a,b)\n",
    "        print(f\"testcase-{i} [{a}, {b}]: qMax = {qMax}, cMax = {cMax}. Results agree: {qMax == cMax}\")\n",
    "\n",
    "\n",
    "    # random tests\n",
    "    print(\"\\nRandom test (a>b or a<b):\")\n",
    "    for i in range(num_tests):\n",
    "        a = random.randint(-int_range, int_range)\n",
    "        b = random.randint(-int_range, int_range)\n",
    "\n",
    "        qMax = find_the_largest_number(a,b)\n",
    "        cMax = max(a,b)\n",
    "        print(f\"testcase-{i} [{a}, {b}]: qMax = {qMax}, cMax = {cMax}. Results agree: {qMax == cMax}\")\n",
    "\n",
    "    return "
   ]
  },
  {
   "cell_type": "code",
   "execution_count": 12,
   "metadata": {},
   "outputs": [
    {
     "name": "stdout",
     "output_type": "stream",
     "text": [
      "Case a = b:\n",
      "testcase-0 [-102, -102]: qMax = -102, cMax = -102. Results agree: True\n",
      "testcase-1 [-106, -106]: qMax = -106, cMax = -106. Results agree: True\n",
      "testcase-2 [114, 114]: qMax = 114, cMax = 114. Results agree: True\n",
      "testcase-3 [-74, -74]: qMax = -74, cMax = -74. Results agree: True\n",
      "testcase-4 [10, 10]: qMax = 10, cMax = 10. Results agree: True\n",
      "\n",
      "Random test (a>b or a<b):\n",
      "testcase-0 [7, 84]: qMax = 84, cMax = 84. Results agree: True\n",
      "testcase-1 [73, -33]: qMax = 73, cMax = 73. Results agree: True\n",
      "testcase-2 [-7, 4]: qMax = 4, cMax = 4. Results agree: True\n",
      "testcase-3 [5, 101]: qMax = 101, cMax = 101. Results agree: True\n",
      "testcase-4 [108, -8]: qMax = 108, cMax = 108. Results agree: True\n"
     ]
    }
   ],
   "source": [
    "test_find_the_largest_number(128, 5)"
   ]
  },
  {
   "attachments": {},
   "cell_type": "markdown",
   "metadata": {},
   "source": [
    "## Conclusion\n",
    "\n",
    "Analysis and data both show that the proposed algorithm do solve the problem."
   ]
  },
  {
   "attachments": {},
   "cell_type": "markdown",
   "metadata": {},
   "source": [
    "# Find the Largest Number (extented ver.)"
   ]
  },
  {
   "attachments": {},
   "cell_type": "markdown",
   "metadata": {},
   "source": [
    "## Problem Definition\n",
    "\n",
    "We would like to consider a problem of finding the largest number in a list of integers with length larger than two. We'll assume all element are unique. We'll start with list having length $N=2^n$ for some integer $n$. Later we'll show how to apply this algorithm to list with arbitrary length. \n",
    "\n",
    "- list size = N =2^n for integer n.\n",
    "- list elements are unique "
   ]
  },
  {
   "cell_type": "code",
   "execution_count": 13,
   "metadata": {},
   "outputs": [],
   "source": [
    "# from qiskit.algorithms import Grover\n",
    "from qiskit.circuit.library import GroverOperator"
   ]
  },
  {
   "attachments": {},
   "cell_type": "markdown",
   "metadata": {},
   "source": [
    "## Grover Subroutine\n",
    "\n",
    "Given a integer `X`  and a list of integers `[x_0, x_1, ..., x_(N-1)]`, and assume we know there're `r` items in the list that is greater than or equal to `X`. We want a grover subroutine that can find one of the number in the list that is greater than or equal to `X`.\n",
    "\n",
    "We build the oracle gate using the qram and quantum comparator defined in previous sections. We use the `GroverOperator` in `qiskit` to generate the grover operator."
   ]
  },
  {
   "cell_type": "code",
   "execution_count": 14,
   "metadata": {},
   "outputs": [],
   "source": [
    "def build_comp_oracle(\n",
    "    data_list: List[int],\n",
    "    comp_target: int\n",
    ") -> QuantumCircuit:\n",
    "    \n",
    "    \"\"\"\n",
    "        grover oracle gives any number in the list >= `comp_target` a (-1) phase\n",
    "\n",
    "    \"\"\"\n",
    "\n",
    "    # encode the data, ready to be compared with `comp_target`\n",
    "    oracle = toQRAM(\n",
    "        data_list = data_list,\n",
    "        num_idx_cbit = 0,\n",
    "        num_data_cbit = 0\n",
    "    )\n",
    "\n",
    "    # add (-1) phase to all states that has value great than or equal to `comp_target`\n",
    "    complete_comparator(\n",
    "        X = comp_target,\n",
    "        circuit = oracle,\n",
    "        target_reg = oracle.qregs[1],\n",
    "        invert_sign = True\n",
    "    )\n",
    "\n",
    "    # uncompute data register of the qram\n",
    "    # (-1) phase saved in the index register\n",
    "    qram_dg = oracle.data[0].operation.inverse()\n",
    "    oracle.append(qram_dg, range(oracle.num_qubits))\n",
    "\n",
    "\n",
    "    return oracle\n",
    "\n",
    "\n",
    "def grover_find_larger_circuit(\n",
    "    data_list: List[int],\n",
    "    comp_target: int,\n",
    "    num_iteration: int\n",
    ") -> QuantumCircuit:\n",
    "    \"\"\"\n",
    "        The complete circuit that runs grover's algorithm to find elements in the list \n",
    "        larger than or equal to `comp_target`\n",
    "    \"\"\"\n",
    "\n",
    "    # build oracle \n",
    "    oracle = build_comp_oracle(data_list, comp_target)\n",
    "\n",
    "    # based on the given oracle, build the grover operator\n",
    "    grover_op = GroverOperator(\n",
    "        oracle = oracle,\n",
    "        reflection_qubits = [i for i in range(oracle.qregs[0].size)],\n",
    "        insert_barriers=True\n",
    "    )\n",
    "\n",
    "    # build the full circuit\n",
    "    search_circuit = QuantumCircuit(oracle.qregs[0], oracle.qregs[1])\n",
    "    search_circuit.add_register(ClassicalRegister(oracle.qregs[0].size, name = \"idx\"))\n",
    "\n",
    "    search_circuit.h(search_circuit.qregs[0])\n",
    "    search_circuit.append(grover_op.repeat(num_iteration), range(search_circuit.num_qubits))\n",
    "\n",
    "    search_circuit.measure(search_circuit.qregs[0], search_circuit.cregs[0])\n",
    "\n",
    "    return search_circuit"
   ]
  },
  {
   "attachments": {},
   "cell_type": "markdown",
   "metadata": {},
   "source": [
    "Here's an example for finding all the element in the list that is larger than or equal to `X`"
   ]
  },
  {
   "cell_type": "code",
   "execution_count": 15,
   "metadata": {},
   "outputs": [
    {
     "name": "stdout",
     "output_type": "stream",
     "text": [
      "[-4, -26, -51, 28, -14, -3, -45, -53, -56, -62, -13, 6, -27, 38, 33, -57, -36, 2, 4, -18, -29, 35, -42, 61, -31, -37, -61, 18, 39, -30, -40, -43, -25, 51, 16, -17, 56, 13, -21, 21, -15, 0, -33, 41, 24, 63, 43, 27, 52, 62, -64, 30, 9, 31, 1, 49, -12, -10, -28, -9, -7, -44, -35, 10]\n",
      "X = 51\n",
      "num of target: 6\n",
      "num of iteration: 2\n"
     ]
    }
   ],
   "source": [
    "random.seed(4)\n",
    "\n",
    "list_size = 2**6\n",
    "\n",
    "input_list = random.sample(range(-list_size, list_size), list_size)\n",
    "\n",
    "rand_idx = random.randint(0,list_size-1)\n",
    "# X = max(input_list)\n",
    "X = input_list[rand_idx]\n",
    "\n",
    "# assume we know the number of target here\n",
    "num_target = np.sum(np.array(input_list) >= X)\n",
    "it = int(np.floor(np.pi*np.sqrt(list_size/num_target)/4))  # floor(pi/4*sqrt(N/M))\n",
    "\n",
    "print(input_list)\n",
    "print(f\"X = {X}\")\n",
    "print(f\"num of target: {num_target}\")\n",
    "print(f\"num of iteration: {it}\")\n"
   ]
  },
  {
   "cell_type": "code",
   "execution_count": 16,
   "metadata": {},
   "outputs": [],
   "source": [
    "grover_circuit = grover_find_larger_circuit(\n",
    "    data_list = input_list,\n",
    "    comp_target = X,\n",
    "    num_iteration = it\n",
    ")\n",
    "\n",
    "# grover_circuit.decompose().decompose().decompose().draw()"
   ]
  },
  {
   "cell_type": "code",
   "execution_count": 17,
   "metadata": {},
   "outputs": [
    {
     "name": "stdout",
     "output_type": "stream",
     "text": [
      "numbers larger than 51:\n",
      "51\n",
      "56\n",
      "62\n",
      "61\n",
      "52\n",
      "63\n"
     ]
    }
   ],
   "source": [
    "grover_sim = Aer.get_backend('qasm_simulator')\n",
    "search_stat = execute(grover_circuit, grover_sim, shots = 2**8).result().get_counts()\n",
    "\n",
    "print(f\"numbers larger than {X}:\")\n",
    "for key in search_stat.int_raw:\n",
    "    print(input_list[key])"
   ]
  },
  {
   "cell_type": "code",
   "execution_count": 18,
   "metadata": {},
   "outputs": [
    {
     "data": {
      "image/png": "[encoded data removed]",
      "text/plain": [
       "<Figure size 504x360 with 1 Axes>"
      ]
     },
     "execution_count": 18,
     "metadata": {},
     "output_type": "execute_result"
    }
   ],
   "source": [
    "plot_histogram(search_stat)"
   ]
  },
  {
   "attachments": {},
   "cell_type": "markdown",
   "metadata": {},
   "source": [
    "## Solution\n",
    "\n",
    "We've defined our grover subroutine. Now we can illustrate the algorithm to find the largest number."
   ]
  },
  {
   "attachments": {},
   "cell_type": "markdown",
   "metadata": {},
   "source": [
    "### algorithm\n",
    "\n",
    "First, a detailed description on the grover subroutine:\n",
    "\n",
    "\n",
    "The grover_find_larger subroutine: GFL(list, iteration, X)\n",
    "- Construct a grover operator with an oracle that will mark all elements' indices in `list` whose value on that index is larger than or equal to `X`.\n",
    "- Contruct a circuit with above grover operator repeated for `iteration` times.\n",
    "- Run the circuit for exactly once, measure the index register, get an index `idx`.\n",
    "- return `list[idx]`.\n",
    "\n",
    "\n",
    "Then we propose the following algorithm:\n",
    "\n",
    "```\n",
    "Algorithm: find the largest number in a list\n",
    "\n",
    "Input: a list of integers, L = [x_0, x_1, ..., x_(N-1)]\n",
    "Tunable parameter: an integer constant, C\n",
    "------------\n",
    "# we start with a classical guess of the maximum\n",
    "\n",
    "Sample √N times randomly on list L, get [s_0, ..., s_(√(N) - 1)].\n",
    "Calculate classically X = max([s_1, ..., s_(√(N) - 1)]).     # X is the initial guess for the maximum of the whole list\n",
    "\n",
    "For i in range[0, ceil((1/2)*log_2(N))]:\n",
    "    let G = floor((pi/4) * 2^(i/2) * N^(1/4))\n",
    "    \n",
    "    # run the grover subroutine\n",
    "    let counter = 1\n",
    "    While counter < C :\n",
    "        run the grover_find_larger subroutine: K = GFL(L, G, X).\n",
    "        if K > X:\n",
    "            let X = K\n",
    "        if K = X:\n",
    "            counter = counter + 1\n",
    "            continue\n",
    "        if K < X:\n",
    "            return X\n",
    "\n",
    "return X\n",
    "```"
   ]
  },
  {
   "attachments": {},
   "cell_type": "markdown",
   "metadata": {},
   "source": [
    "### Explanation\n",
    "\n",
    "#### classical sampling\n",
    "\n",
    "When targets are too many, the number of grover iteration, given by the formula $(\\pi / 4) \\sqrt{N \\over M}$, will be small. The desired states' amplitudes may not be sufficiently amplified. By taking multiple smaples and calculate the maximum, we will make a better guess on the maximum of the entire list. This will decrease $M$ in the formula, increase the grover iteration. Thus the grover subroutine has a better chance to give a correct answer. \n",
    "\n",
    "Considering the statistic model $X = \\max(s_1, ... , s_n)$, $s_i$ are iid and uniformly distributed on $L = [0, ..., (N-1)]$. We can calculate that the expected number of element in $L$ larger than X is about $E[N - X]\\sim N/n$. So by taking $n$ samples to initialize the guess, the grover iteration required is around $(\\pi / 4) \\sqrt{n}$. \n",
    "\n",
    "We choose $n=\\sqrt{N}$ because it will give us a reasonablely good guess: on average there should be $\\sqrt{N}$ elements greater than or equal to $X$. And querying the classical database $\\sqrt{N}$ times still give us an advantage over the classical find maximum algorithm, which runs in $O(N)$.\n",
    "\n",
    "Actually all $n=N^{a}$ for $a\\in (0,1)$ will give us a good initial guess. Different $a$ will result in different for-loop interations but the quantum query complexity will be the same.\n",
    "\n",
    "#### iteration number, G, for the grover subroutine\n",
    "\n",
    "Apparently, at each time we run the grover subroutine, we do not know the exact number for target. So we use an expectation value from the following statistic model: $\\{Y_1,...,Y_n\\}$ is a sequence of random variables such that $Y_1$ is randomly distribution on $[a, b]$ and for any $1<i\\le n$, $Y_i$ is uniformly distributed on $[Y_{i-1}, b]$. We can show that $E[b - Y_n] = (b-a)/2^{n}$. Given that we run the grover subroutine until we've got an element larger than $X$, we are uniformly choosing from all the element that is larger than $X$. Then the statistical model tells us: if the array is fully sorted in an ascending order and we start our search on the the interval $[N-\\sqrt{N}, N]$ due to the sampling process mentioned above. Then on the $i$-th iteration, we are on average $\\sqrt{N}/2^{i}$ indice away from the maximum. Thus there are on average $\\sqrt{N}/2^{i}$ elements larger than our current $X$, this gives the grover iteration number: $G = (\\pi/4)  2^{i/2}  N^{1/4}$.\n",
    "\n",
    "#### iteration number, i\n",
    "\n",
    "Since on the $i$-th iteration, we are on average $\\sqrt{N}/2^{i}$ indice away from the maximum. We choose to run the for loop until we are less than $1$ index away from the maximum.\n",
    "$$\n",
    "\\sqrt{N}/2^{i} = 1 \\implies i = {1 \\over 2}\\log_2{N}\n",
    "$$\n",
    "\n",
    "#### tunable parameter, C\n",
    "\n",
    "This extra loop on parameter $C$ is added for better convergence. When we're near the end of iteration and there are only 2 or 3 elements that are larger than or equal to our current selection, the probability of choosing the same $X$ instead of a larger one is a lot higher than previous iteration. If in the current iteration there's exactly 2 elements $\\ge$ current $X$, and we run the while $C$ times and still got $X$, the probabilty of $X$ not being the actual maximum of the list will drop to roughly ${1 / 2^C}$. This contant repeated is very helpful for getting the correct answer and on the same time it does not effect the asymptotic query complexity, which will be shown in the next section.\n"
   ]
  },
  {
   "attachments": {},
   "cell_type": "markdown",
   "metadata": {},
   "source": [
    "### analysis\n",
    "\n",
    "- For the query complexity, we query the input list $\\sqrt{N}$ times classically in the initialization step. Since we've explicitly define the number of for-loop iteration and grover iteration, we can simply calculate it: $$\\sum_{i=0}^{\\log_2{N}/2}{C\\cdot (\\pi/4)  2^{i/2}  N^{1/4}}$$ this sum of geometric series gives $O(\\sqrt{N})$. Above all, this algorithm's classical and quantum query complexity are both $O(\\sqrt{N})$.\n",
    "- We could not give a bound on the success rate. But we suspect that this algorithm will perform better as $N$ increases because there will be less proportion $\\sim {1\\over\\sqrt{N}}$ to search. We'll leave this to future investigation. Although we do not have a theoretical bound, we get some numerical estimates of the success rate in the test section.\n",
    "- If one wants to extend this algorithm to find maximum in a list with arbitrary length, not just a power of 2. One way is to can randomly choose an element from list and pad the list with this element until reach a power of 2, then use our algorithm.The query complexity for this method should still be $O(\\sqrt{N})$. Another way is to devide the original list into a series of lists with power-of-2 length, apply our algorithm to each sublists to individual maximum. Then apply the our algorithm again to find the maximum among all maximum. Query complexity for this method should be $O(\\sqrt{N\\log{N}})$."
   ]
  },
  {
   "attachments": {},
   "cell_type": "markdown",
   "metadata": {},
   "source": [
    "### implementation"
   ]
  },
  {
   "cell_type": "code",
   "execution_count": 19,
   "metadata": {},
   "outputs": [],
   "source": [
    "def find_the_largest_from_long_list(\n",
    "    data_list: List[int],\n",
    "    show_progress: bool = False\n",
    "):\n",
    "    \"\"\"\n",
    "        This function is NOT the actual \n",
    "    \"\"\"\n",
    "    list_len = len(data_list)\n",
    "    sqrt_len = int(np.ceil(np.sqrt(list_len)))\n",
    "\n",
    "    # initial guess is the maximum of the sqrt(N) random samples\n",
    "    X = data_list[0]\n",
    "    for _ in range(sqrt_len):\n",
    "        rand_idx = random.randint(0, list_len - 1)\n",
    "        new_X = data_list[rand_idx]\n",
    "        if new_X > X:\n",
    "            X = new_X\n",
    "\n",
    "    # for collecting running data\n",
    "    max_log = [X]\n",
    "    stat_log = {}\n",
    "\n",
    "    loop_range = int(np.ceil(np.log2(list_len)/2))\n",
    "    for i in range(loop_range):\n",
    "        # define the grover subroutine about to run\n",
    "        grover_iteration = int(np.floor((np.pi/4) * np.power(2, i/2) * np.power(list_len, 1/4) ) )\n",
    "        grover_sub = grover_find_larger_circuit(\n",
    "                data_list = data_list,\n",
    "                comp_target = X,\n",
    "                num_iteration = grover_iteration\n",
    "            )\n",
    "        # for collecting running data\n",
    "        ith_log = []\n",
    "        single_run_stat = {}\n",
    "\n",
    "        # run grover\n",
    "        duplicate_counter = 0\n",
    "        # run at most 3 times for stop being on the same X\n",
    "        # this constant repetition has no effect on the asymptotic time complexity\n",
    "        while duplicate_counter < 3:\n",
    "            if show_progress:\n",
    "                print(f\"({i}, {duplicate_counter})\")\n",
    "            \n",
    "            sub_back = Aer.get_backend('qasm_simulator')\n",
    "            stat = execute(grover_sub, sub_back, shots = 1).result().get_counts() \n",
    "            res_idx = int(stat.most_frequent(), 2)\n",
    "\n",
    "            K = data_list[res_idx]\n",
    "\n",
    "            # for collecting running data\n",
    "            ith_log.append(K)\n",
    "            single_run_stat[duplicate_counter] = stat\n",
    "\n",
    "            # found a number larger than X\n",
    "            if K > X:\n",
    "                X = K\n",
    "                break\n",
    "            # get a number equal to current X, run again \n",
    "            if K == X:\n",
    "                duplicate_counter += 1\n",
    "            \n",
    "            # error\n",
    "            if K < X:\n",
    "                print(\"grover iteration is largely off, early return\")\n",
    "                max_log.append(ith_log)\n",
    "                stat_log[i+1] = single_run_stat\n",
    "                return X, max_log, stat_log\n",
    "                \n",
    "        # for collecting running data\n",
    "        max_log.append(ith_log)\n",
    "        stat_log[i+1] = single_run_stat\n",
    "\n",
    "\n",
    "    return X, max_log, stat_log\n"
   ]
  },
  {
   "attachments": {},
   "cell_type": "markdown",
   "metadata": {},
   "source": [
    "The Following block contains a debug version of the algorithm. It sets shots $\\gt 1$ to get extra statistical data, enforcing each grover subroutine to get a solution better than current. This function represents an ideal case for our algorithm. It is used for debugging. "
   ]
  },
  {
   "cell_type": "code",
   "execution_count": 33,
   "metadata": {},
   "outputs": [],
   "source": [
    "# a helper function to randomly select a result when there are multiple most frequent number\n",
    "# only useful when shots in execute function set > 1\n",
    "def random_most_frequent(qiskit_counts) -> int:\n",
    "    max_count_num = max(qiskit_counts.values())\n",
    "\n",
    "    most_frequent_list = []\n",
    "\n",
    "    for key in qiskit_counts.int_raw:\n",
    "        if qiskit_counts.int_raw[key] == max_count_num:\n",
    "            most_frequent_list.append(key)\n",
    "    \n",
    "    if len(most_frequent_list) == 1:\n",
    "        return most_frequent_list[0]\n",
    "\n",
    "    rIdx = random.randint(0, len(most_frequent_list)-1)\n",
    "    print(\"randomly select from multiple most frequent\")\n",
    "\n",
    "    return most_frequent_list[rIdx]\n",
    "\n",
    "\n",
    "def find_the_largest_from_long_list_sim(\n",
    "    data_list: List[int]\n",
    "):\n",
    "    \"\"\"\n",
    "        This function is NOT the actual \n",
    "    \"\"\"\n",
    "    list_len = len(data_list)\n",
    "    sqrt_len = int(np.ceil(np.sqrt(list_len)))\n",
    "\n",
    "    # initial guess is the maximum of the sqrt(N) random samples\n",
    "    X = data_list[0]\n",
    "    for _ in range(sqrt_len):\n",
    "        rand_idx = random.randint(0, list_len - 1)\n",
    "        new_X = data_list[rand_idx]\n",
    "        if new_X > X:\n",
    "            X = new_X\n",
    "\n",
    "    # for collecting running data\n",
    "    max_log = [X]\n",
    "    stat_log = {}\n",
    "\n",
    "    loop_range = int(np.ceil(np.log2(list_len)/2))\n",
    "    for i in range(loop_range):\n",
    "        # define the grover subroutine about to run\n",
    "        grover_iteration = int(np.floor((np.pi/4) * np.power(2, i/2) * np.power(list_len, 1/4) ) )\n",
    "        grover_sub = grover_find_larger_circuit(\n",
    "                data_list = data_list,\n",
    "                comp_target = X,\n",
    "                num_iteration = grover_iteration\n",
    "            )\n",
    "        # for collecting running data\n",
    "        ith_log = []\n",
    "        single_run_stat = {}\n",
    "\n",
    "        # run grover\n",
    "        duplicate_counter = 0\n",
    "        while duplicate_counter < 3:\n",
    "            print(f\"({i}, {duplicate_counter})\")\n",
    "            sub_back = Aer.get_backend('qasm_simulator')\n",
    "            # shots set larger than 1 to get statistical effect when the database size is small \n",
    "            stat = execute(grover_sub, sub_back, shots = 512).result().get_counts() \n",
    "            res_idx = random_most_frequent(stat)\n",
    "\n",
    "            K = data_list[res_idx]\n",
    "\n",
    "            # for collecting running data\n",
    "            ith_log.append(K)\n",
    "            single_run_stat[duplicate_counter] = stat\n",
    "\n",
    "            # found a number larger than X\n",
    "            if K > X:\n",
    "                X = K\n",
    "                break\n",
    "            # get a number equal to current X, run again \n",
    "            if K == X:\n",
    "                duplicate_counter += 1\n",
    "            \n",
    "            # error\n",
    "            if K < X:\n",
    "                print(\"grover iteration is largely off, early return\")\n",
    "                max_log.append(ith_log)\n",
    "                stat_log[i+1] = single_run_stat\n",
    "                return X, max_log, stat_log\n",
    "                \n",
    "        # for collecting running data\n",
    "        max_log.append(ith_log)\n",
    "        stat_log[i+1] = single_run_stat\n",
    "\n",
    "\n",
    "    return X, max_log, stat_log\n"
   ]
  },
  {
   "attachments": {},
   "cell_type": "markdown",
   "metadata": {},
   "source": [
    "### Test\n",
    "\n",
    "Randomly initialize a list and find its maximum using our algorithm"
   ]
  },
  {
   "cell_type": "code",
   "execution_count": 20,
   "metadata": {},
   "outputs": [
    {
     "name": "stdout",
     "output_type": "stream",
     "text": [
      "data:  [-405, -238, -423, 275, -95, -240, -402, 346, 410, 383, -473, -124, 37, 63, -172, -164, 360, -459, -349, -374, -167, 62, -171, 206, -261, -345, -511, 415, -66, 280, 509, 387, 99, -126, -441, -506, -189, 237, -53, -408, 484, -468, -418, 171, -367, -383, 297, 416, -491, -214, 421, -72, 75, -24, -241, -32, 345, -475, 508, -200, -161, 22, 308, -18, -301, 328, 111, 142, 27, 66, 316, -190, -500, -105, 402, 453, 149, 13, -68, 189, 39, 141, 303, 170, 98, 399, 341, -15, 21, 172, -83, -129, 10, -480, 355, 260, 148, -327, 231, 327, -428, -14, 161, -244, -338, -170, 491, 55, -112, 393, -437, 228, -45, -116, 74, 285, -168, -496, -319, 88, -422, 339, 131, -140, -499, -152, -278, -97] \n",
      "\n",
      "length: 128\n",
      "cMax = 509\n"
     ]
    }
   ],
   "source": [
    "random.seed(123)\n",
    "list_size = 2**7\n",
    "\n",
    "input_list = random.sample(range(-4*list_size, 4*list_size), list_size)\n",
    "\n",
    "print(\"data: \", input_list, '\\n')\n",
    "print(f\"length: {len(input_list)}\")\n",
    "print(f\"cMax = {max(input_list)}\")\n"
   ]
  },
  {
   "cell_type": "code",
   "execution_count": 24,
   "metadata": {},
   "outputs": [
    {
     "name": "stdout",
     "output_type": "stream",
     "text": [
      "(0, 0)\n",
      "(0, 1)\n",
      "(1, 0)\n",
      "(2, 0)\n",
      "(2, 1)\n",
      "(2, 2)\n",
      "(3, 0)\n",
      "(3, 1)\n",
      "(3, 2)\n"
     ]
    }
   ],
   "source": [
    "qRes, max_log, stat_log = find_the_largest_from_long_list(input_list, show_progress=True)"
   ]
  },
  {
   "cell_type": "code",
   "execution_count": 26,
   "metadata": {},
   "outputs": [
    {
     "name": "stdout",
     "output_type": "stream",
     "text": [
      "qRes = 509\n",
      "[415, [415, 453], [509], [509, 509, 509], [509, 509, 509]]\n"
     ]
    }
   ],
   "source": [
    "print(f\"qRes = {qRes}\")\n",
    "print(max_log)"
   ]
  },
  {
   "attachments": {},
   "cell_type": "markdown",
   "metadata": {},
   "source": [
    "Next, we want to estimate the success rate of the algorithm"
   ]
  },
  {
   "cell_type": "code",
   "execution_count": 31,
   "metadata": {},
   "outputs": [],
   "source": [
    "def fixed_input_test(\n",
    "    input_size: int,\n",
    "    iteration: int,\n",
    "    rand_seed:int = None\n",
    "):\n",
    "    \"\"\"\n",
    "        `input_size`:\n",
    "            has to be power of 2\n",
    "\n",
    "    \"\"\"\n",
    "\n",
    "    if None != rand_seed:\n",
    "        random.seed(rand_seed)\n",
    "    else:\n",
    "        random.seed(123)\n",
    "\n",
    "    test_list = random.sample(range(-4*input_size, 4*input_size), input_size)\n",
    "\n",
    "    cMax = max(test_list)\n",
    "\n",
    "    print(f\"test baseline: classical max = {cMax}\")\n",
    "\n",
    "    s_count = 0\n",
    "\n",
    "    for i in range(iteration):\n",
    "        qMax, _, _ = find_the_largest_from_long_list(test_list, show_progress=False)\n",
    "\n",
    "        print(f\"qMax = {qMax}\")\n",
    "\n",
    "        if qMax == cMax:\n",
    "            s_count += 1\n",
    "\n",
    "    return s_count/iteration"
   ]
  },
  {
   "cell_type": "code",
   "execution_count": 38,
   "metadata": {},
   "outputs": [
    {
     "name": "stdout",
     "output_type": "stream",
     "text": [
      "test baseline: classical max = 126\n",
      "qMax = 126\n",
      "grover iteration is largely off, early return\n",
      "qMax = 126\n",
      "grover iteration is largely off, early return\n",
      "qMax = 114\n",
      "qMax = 126\n",
      "grover iteration is largely off, early return\n",
      "qMax = 51\n",
      "grover iteration is largely off, early return\n",
      "qMax = 126\n",
      "grover iteration is largely off, early return\n",
      "qMax = 125\n",
      "grover iteration is largely off, early return\n",
      "qMax = 126\n",
      "grover iteration is largely off, early return\n",
      "qMax = 126\n",
      "grover iteration is largely off, early return\n",
      "qMax = 126\n",
      "grover iteration is largely off, early return\n",
      "qMax = 126\n",
      "qMax = 126\n",
      "grover iteration is largely off, early return\n",
      "qMax = 126\n",
      "qMax = 126\n",
      "grover iteration is largely off, early return\n",
      "qMax = 126\n",
      "qMax = 126\n",
      "grover iteration is largely off, early return\n",
      "qMax = 126\n",
      "grover iteration is largely off, early return\n",
      "qMax = 126\n",
      "grover iteration is largely off, early return\n",
      "qMax = 125\n",
      "grover iteration is largely off, early return\n",
      "qMax = 113\n"
     ]
    }
   ],
   "source": [
    "p5 = fixed_input_test(2**5, 20)"
   ]
  },
  {
   "cell_type": "code",
   "execution_count": 36,
   "metadata": {},
   "outputs": [
    {
     "name": "stdout",
     "output_type": "stream",
     "text": [
      "test baseline: classical max = 242\n",
      "grover iteration is largely off, early return\n",
      "qMax = 242\n",
      "qMax = 242\n",
      "grover iteration is largely off, early return\n",
      "qMax = 241\n",
      "qMax = 242\n",
      "qMax = 242\n",
      "grover iteration is largely off, early return\n",
      "qMax = 173\n",
      "grover iteration is largely off, early return\n",
      "qMax = 242\n",
      "grover iteration is largely off, early return\n",
      "qMax = 242\n",
      "grover iteration is largely off, early return\n",
      "qMax = 242\n",
      "grover iteration is largely off, early return\n",
      "qMax = 242\n",
      "qMax = 242\n",
      "grover iteration is largely off, early return\n",
      "qMax = 42\n",
      "grover iteration is largely off, early return\n",
      "qMax = 241\n",
      "grover iteration is largely off, early return\n",
      "qMax = 242\n",
      "qMax = 242\n",
      "grover iteration is largely off, early return\n",
      "qMax = 242\n",
      "grover iteration is largely off, early return\n",
      "qMax = 242\n",
      "grover iteration is largely off, early return\n",
      "qMax = 242\n",
      "grover iteration is largely off, early return\n",
      "qMax = 242\n",
      "grover iteration is largely off, early return\n",
      "qMax = 241\n"
     ]
    }
   ],
   "source": [
    "p6 = fixed_input_test(2**6, 20)"
   ]
  },
  {
   "cell_type": "code",
   "execution_count": 41,
   "metadata": {},
   "outputs": [
    {
     "name": "stdout",
     "output_type": "stream",
     "text": [
      "test baseline: classical max = 509\n",
      "grover iteration is largely off, early return\n",
      "qMax = 148\n",
      "grover iteration is largely off, early return\n",
      "qMax = 415\n",
      "qMax = 509\n",
      "grover iteration is largely off, early return\n",
      "qMax = 509\n",
      "grover iteration is largely off, early return\n",
      "qMax = 509\n",
      "grover iteration is largely off, early return\n",
      "qMax = 509\n",
      "grover iteration is largely off, early return\n",
      "qMax = 509\n",
      "grover iteration is largely off, early return\n",
      "qMax = 509\n",
      "grover iteration is largely off, early return\n",
      "qMax = 509\n",
      "grover iteration is largely off, early return\n",
      "qMax = 509\n",
      "qMax = 509\n",
      "grover iteration is largely off, early return\n",
      "qMax = 453\n",
      "grover iteration is largely off, early return\n",
      "qMax = 508\n",
      "qMax = 509\n",
      "grover iteration is largely off, early return\n",
      "qMax = 508\n",
      "grover iteration is largely off, early return\n",
      "qMax = 491\n",
      "grover iteration is largely off, early return\n",
      "qMax = 206\n",
      "grover iteration is largely off, early return\n",
      "qMax = 228\n",
      "grover iteration is largely off, early return\n",
      "qMax = 453\n",
      "grover iteration is largely off, early return\n",
      "qMax = 416\n"
     ]
    }
   ],
   "source": [
    "p7 = fixed_input_test(2**7, 20)\n"
   ]
  },
  {
   "cell_type": "code",
   "execution_count": 42,
   "metadata": {},
   "outputs": [
    {
     "name": "stdout",
     "output_type": "stream",
     "text": [
      "test baseline: classical max = 1023\n",
      "qMax = 1023\n",
      "grover iteration is largely off, early return\n",
      "qMax = 1023\n",
      "grover iteration is largely off, early return\n",
      "qMax = 1002\n",
      "grover iteration is largely off, early return\n",
      "qMax = 812\n",
      "grover iteration is largely off, early return\n",
      "qMax = 1002\n",
      "grover iteration is largely off, early return\n",
      "qMax = 1023\n",
      "grover iteration is largely off, early return\n",
      "qMax = 1023\n",
      "grover iteration is largely off, early return\n",
      "qMax = 1010\n",
      "grover iteration is largely off, early return\n",
      "qMax = 823\n",
      "grover iteration is largely off, early return\n",
      "qMax = 1010\n",
      "grover iteration is largely off, early return\n",
      "qMax = 818\n",
      "qMax = 1023\n",
      "grover iteration is largely off, early return\n",
      "qMax = 1009\n",
      "grover iteration is largely off, early return\n",
      "qMax = 1023\n",
      "grover iteration is largely off, early return\n",
      "qMax = 1001\n",
      "grover iteration is largely off, early return\n",
      "qMax = 762\n",
      "grover iteration is largely off, early return\n",
      "qMax = 1023\n",
      "qMax = 1023\n",
      "grover iteration is largely off, early return\n",
      "qMax = 1009\n",
      "grover iteration is largely off, early return\n",
      "qMax = 1002\n"
     ]
    }
   ],
   "source": [
    "p8 = fixed_input_test(2**8, 20)"
   ]
  },
  {
   "cell_type": "code",
   "execution_count": 45,
   "metadata": {},
   "outputs": [
    {
     "name": "stdout",
     "output_type": "stream",
     "text": [
      "Running on list size: 32, p_success = 0.75\n",
      "Running on list size: 64, p_success = 0.75\n",
      "Running on list size: 128, p_success = 0.5\n",
      "Running on list size: 256, p_success = 0.4\n"
     ]
    }
   ],
   "source": [
    "print(f\"Running on list size: {2**5}, p_success = {p5}\")\n",
    "print(f\"Running on list size: {2**6}, p_success = {p6}\")\n",
    "print(f\"Running on list size: {2**7}, p_success = {p7}\")\n",
    "print(f\"Running on list size: {2**8}, p_success = {p8}\")"
   ]
  },
  {
   "attachments": {},
   "cell_type": "markdown",
   "metadata": {},
   "source": [
    "## Conclusion\n",
    "\n",
    "The proposed algorithm does solve the problem to some extent. But from the numerical evidence, the success rate is not increasing as the problem size increases. This algorithm needs a proper bound to be convincing."
   ]
  }
 ],
 "metadata": {
  "kernelspec": {
   "display_name": "qiskit",
   "language": "python",
   "name": "python3"
  },
  "language_info": {
   "codemirror_mode": {
    "name": "ipython",
    "version": 3
   },
   "file_extension": ".py",
   "mimetype": "text/x-python",
   "name": "python",
   "nbconvert_exporter": "python",
   "pygments_lexer": "ipython3",
   "version": "3.9.10"
  },
  "orig_nbformat": 4,
  "vscode": {
   "interpreter": {
    "hash": "4d53771b0a959c74d5a1a5685a0fdf3ec4cd7130f69454c4b75ea681c090f182"
   }
  }
 },
 "nbformat": 4,
 "nbformat_minor": 2
}
