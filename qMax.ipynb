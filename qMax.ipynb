{
 "cells": [
  {
   "cell_type": "code",
   "execution_count": 1,
   "metadata": {},
   "outputs": [],
   "source": [
    "from qiskit import QuantumCircuit, QuantumRegister, ClassicalRegister, Aer, execute\n",
    "from qiskit.circuit import Gate\n",
    "from qiskit.visualization import plot_histogram\n",
    "from typing import List\n",
    "\n",
    "import numpy as np\n",
    "import random\n",
    "\n",
    "from ryQFTAdder import *"
   ]
  },
  {
   "attachments": {},
   "cell_type": "markdown",
   "metadata": {},
   "source": [
    "# Find the Largest Number (basic ver.)\n",
    "\n",
    "This part demonstrate the quantum algorithm to solve task 1\n",
    "\n",
    "## QRAM\n",
    "\n",
    "Before designing the quantum algorithm that gives the largest number, we have to define how the data in the list can be accessed quantumly. We want a circuit $U_f$ such that:\n",
    "\n",
    "$$\n",
    "\\ket{i}\\ket{0} \\xrightarrow{U_f} \\ket{i}\\ket{f(i)}\n",
    "$$\n",
    "\n",
    "where $i$ is the index and $f(i)$ gives the ith number in the list.\n",
    "\n",
    "For each integer in the list, we choose basic/state encoding, the highest bit is sign bit. For example, 5 and -6 can be encoded as:\n",
    "\n",
    "$$\\begin{align*}\n",
    "5  &\\rightarrow \\ket{00101} \\\\\n",
    "-6 &\\rightarrow \\ket{11010}      \n",
    "\\end{align*}$$\n",
    "\n",
    "4 bits is enough to hold 5 and -6. Since we'll later do addition and subtraction between two numbers in the list, we use 1 extra bit to prevent overflow. The indeices will also be encoded using state encoding and we encode the them into the ctrl bits of mcx gate. The control bit will be controlled by either '0' or '1' based on the state encoding of the index on that position."
   ]
  },
  {
   "cell_type": "code",
   "execution_count": 2,
   "metadata": {},
   "outputs": [],
   "source": [
    "\"\"\"\n",
    "Here is a general method to convert a list of number into quantum data.\n",
    "\n",
    "In this function, we used np.max to find the bound for the list, \n",
    "but such information is not encoded into the QRAM so the algorithm that we'll \n",
    "present in a moment to solve the problem will not lost any generality. And in practice \n",
    "the bound on integer is always predetermined by its type like 'int' in C usually represents \n",
    "integers from -2147483648 to 2147483647. The reason that we choose to dynamically determine \n",
    "the number of qubit is for compactness and clarity.\n",
    "\n",
    "\"\"\"\n",
    "\n",
    "def toQRAM(\n",
    "    data_list: List[int],\n",
    "    num_data_cbit: int = None\n",
    ") -> QuantumCircuit:\n",
    "    \"\"\"\n",
    "        returns the circuit U_f such that U_f|i>|0> = |i>|x_i>\n",
    "\n",
    "        Args:\n",
    "            data_list:\n",
    "                the list of number needs to be encoded\n",
    "\n",
    "            num_data_cbit:\n",
    "                size of the classical register of for the data qubit\n",
    "    \"\"\"\n",
    "    \n",
    "    # first construct qram as a gate \n",
    "\n",
    "    # define minimum number of qubit to represent all the integers in the list\n",
    "    bound = np.max(np.abs(data_list))\n",
    "    num_qubit_i = int(np.ceil(np.log2(len(data_list))))\n",
    "    num_qubit_xi = len(bin(bound)[2:]) + 2 # one for sign and one for preventing overflow\n",
    "\n",
    "    if None == num_data_cbit:\n",
    "        num_data_cbit = num_qubit_xi\n",
    "    \n",
    "    # define index and data quantum registers\n",
    "    reg_i  = QuantumRegister(num_qubit_i)\n",
    "    reg_xi = QuantumRegister(num_qubit_xi)\n",
    "    \n",
    "    qc = QuantumCircuit(reg_i, reg_xi, name=\"QRAM\")\n",
    "\n",
    "    for i, x in enumerate(data_list):\n",
    "        # convert index into binary and agree with the number of index qubit\n",
    "        i_bin = format(i, f'0{num_qubit_i}b') \n",
    "        # convert x_i into binary and agree with the number of data qubit\n",
    "        x_bin = bin(x & int('1' * num_qubit_xi, 2))[2:]\n",
    "\n",
    "        # determine which control bit is controlled by '0'\n",
    "        for i_bin_idx, i_bin_symbol in enumerate(reversed(i_bin)):\n",
    "            if '0' == i_bin_symbol:\n",
    "                qc.x(reg_i[i_bin_idx])\n",
    "        \n",
    "        # encode x_i\n",
    "        for x_bin_idx, x_bin_symbol in enumerate(reversed(x_bin)):\n",
    "            if '1' == x_bin_symbol:\n",
    "                qc.mcx(reg_i, reg_xi[x_bin_idx])\n",
    "        \n",
    "        # uncompute for the control bit\n",
    "        for i_bin_idx, i_bin_symbol in enumerate(reversed(i_bin)):\n",
    "            if '0' == i_bin_symbol:\n",
    "                qc.x(reg_i[i_bin_idx])\n",
    "\n",
    "    # define qram as a gate\n",
    "    qram_gate = qc.to_gate()\n",
    "\n",
    "    # using the qram gate, construct the full circuit \n",
    "    q_i  = QuantumRegister(num_qubit_i, \"q_i\")\n",
    "    q_xi = QuantumRegister(num_qubit_xi, \"q_xi\")\n",
    "    c_i = ClassicalRegister(num_qubit_i, \"i\")\n",
    "    c_xi = ClassicalRegister(num_data_cbit, \"xi\") \n",
    "\n",
    "    full_circ = QuantumCircuit(q_i, q_xi, c_i, c_xi)\n",
    "    full_circ.append(qram_gate, range(full_circ.num_qubits))\n",
    "\n",
    "    return full_circ"
   ]
  },
  {
   "attachments": {},
   "cell_type": "markdown",
   "metadata": {},
   "source": [
    "For example the list [-3,2,5,-1] in the qram form will be:"
   ]
  },
  {
   "cell_type": "code",
   "execution_count": 3,
   "metadata": {},
   "outputs": [
    {
     "data": {
      "text/html": [
       "<pre style=\"word-wrap: normal;white-space: pre;background: #fff0;line-height: 1.1;font-family: &quot;Courier New&quot;,Courier,monospace\">        ┌───┐                    ┌───┐          ┌───┐          ┌───┐     \n",
       " q_i_0: ┤ X ├──■────■────■────■──┤ X ├───────■──┤ X ├──■────■──┤ X ├──■──\n",
       "        ├───┤  │    │    │    │  ├───┤┌───┐  │  ├───┤  │    │  └───┘  │  \n",
       " q_i_1: ┤ X ├──■────■────■────■──┤ X ├┤ X ├──■──┤ X ├──■────■─────────■──\n",
       "        └───┘┌─┴─┐  │    │    │  └───┘└───┘  │  └───┘┌─┴─┐  │       ┌─┴─┐\n",
       "q_xi_0: ─────┤ X ├──┼────┼────┼──────────────┼───────┤ X ├──┼───────┤ X ├\n",
       "             └───┘  │    │    │            ┌─┴─┐     └───┘  │       └───┘\n",
       "q_xi_1: ────────────┼────┼────┼────────────┤ X ├────────────┼────────────\n",
       "                  ┌─┴─┐  │    │            └───┘          ┌─┴─┐          \n",
       "q_xi_2: ──────────┤ X ├──┼────┼───────────────────────────┤ X ├──────────\n",
       "                  └───┘┌─┴─┐  │                           └───┘          \n",
       "q_xi_3: ───────────────┤ X ├──┼──────────────────────────────────────────\n",
       "                       └───┘┌─┴─┐                                        \n",
       "q_xi_4: ────────────────────┤ X ├────────────────────────────────────────\n",
       "                            └───┘                                        \n",
       "   i: 2/═════════════════════════════════════════════════════════════════\n",
       "                                                                         \n",
       "  xi: 5/═════════════════════════════════════════════════════════════════\n",
       "                                                                         </pre>"
      ],
      "text/plain": [
       "        ┌───┐                    ┌───┐          ┌───┐          ┌───┐     \n",
       " q_i_0: ┤ X ├──■────■────■────■──┤ X ├───────■──┤ X ├──■────■──┤ X ├──■──\n",
       "        ├───┤  │    │    │    │  ├───┤┌───┐  │  ├───┤  │    │  └───┘  │  \n",
       " q_i_1: ┤ X ├──■────■────■────■──┤ X ├┤ X ├──■──┤ X ├──■────■─────────■──\n",
       "        └───┘┌─┴─┐  │    │    │  └───┘└───┘  │  └───┘┌─┴─┐  │       ┌─┴─┐\n",
       "q_xi_0: ─────┤ X ├──┼────┼────┼──────────────┼───────┤ X ├──┼───────┤ X ├\n",
       "             └───┘  │    │    │            ┌─┴─┐     └───┘  │       └───┘\n",
       "q_xi_1: ────────────┼────┼────┼────────────┤ X ├────────────┼────────────\n",
       "                  ┌─┴─┐  │    │            └───┘          ┌─┴─┐          \n",
       "q_xi_2: ──────────┤ X ├──┼────┼───────────────────────────┤ X ├──────────\n",
       "                  └───┘┌─┴─┐  │                           └───┘          \n",
       "q_xi_3: ───────────────┤ X ├──┼──────────────────────────────────────────\n",
       "                       └───┘┌─┴─┐                                        \n",
       "q_xi_4: ────────────────────┤ X ├────────────────────────────────────────\n",
       "                            └───┘                                        \n",
       "   i: 2/═════════════════════════════════════════════════════════════════\n",
       "                                                                         \n",
       "  xi: 5/═════════════════════════════════════════════════════════════════\n",
       "                                                                         "
      ]
     },
     "execution_count": 3,
     "metadata": {},
     "output_type": "execute_result"
    }
   ],
   "source": [
    "ex_list = [-3, 2, 5, 1]\n",
    "\n",
    "qram_circ = toQRAM(ex_list)\n",
    "qram_circ.decompose().draw()"
   ]
  },
  {
   "attachments": {},
   "cell_type": "markdown",
   "metadata": {},
   "source": [
    "And we can confirm the qram indeed stores the disered data by making query on all possible indices:"
   ]
  },
  {
   "cell_type": "code",
   "execution_count": 4,
   "metadata": {},
   "outputs": [
    {
     "data": {
      "text/html": [
       "<pre style=\"word-wrap: normal;white-space: pre;background: #fff0;line-height: 1.1;font-family: &quot;Courier New&quot;,Courier,monospace\">        ┌───┐┌───────┐┌─┐                  \n",
       " q_i_0: ┤ H ├┤0      ├┤M├──────────────────\n",
       "        ├───┤│       │└╥┘┌─┐               \n",
       " q_i_1: ┤ H ├┤1      ├─╫─┤M├───────────────\n",
       "        └───┘│       │ ║ └╥┘┌─┐            \n",
       "q_xi_0: ─────┤2      ├─╫──╫─┤M├────────────\n",
       "             │       │ ║  ║ └╥┘┌─┐         \n",
       "q_xi_1: ─────┤3 QRAM ├─╫──╫──╫─┤M├─────────\n",
       "             │       │ ║  ║  ║ └╥┘┌─┐      \n",
       "q_xi_2: ─────┤4      ├─╫──╫──╫──╫─┤M├──────\n",
       "             │       │ ║  ║  ║  ║ └╥┘┌─┐   \n",
       "q_xi_3: ─────┤5      ├─╫──╫──╫──╫──╫─┤M├───\n",
       "             │       │ ║  ║  ║  ║  ║ └╥┘┌─┐\n",
       "q_xi_4: ─────┤6      ├─╫──╫──╫──╫──╫──╫─┤M├\n",
       "             └───────┘ ║  ║  ║  ║  ║  ║ └╥┘\n",
       "   i: 2/═══════════════╩══╩══╬══╬══╬══╬══╬═\n",
       "                       0  1  ║  ║  ║  ║  ║ \n",
       "  xi: 5/═════════════════════╩══╩══╩══╩══╩═\n",
       "                             0  1  2  3  4 </pre>"
      ],
      "text/plain": [
       "        ┌───┐┌───────┐┌─┐                  \n",
       " q_i_0: ┤ H ├┤0      ├┤M├──────────────────\n",
       "        ├───┤│       │└╥┘┌─┐               \n",
       " q_i_1: ┤ H ├┤1      ├─╫─┤M├───────────────\n",
       "        └───┘│       │ ║ └╥┘┌─┐            \n",
       "q_xi_0: ─────┤2      ├─╫──╫─┤M├────────────\n",
       "             │       │ ║  ║ └╥┘┌─┐         \n",
       "q_xi_1: ─────┤3 QRAM ├─╫──╫──╫─┤M├─────────\n",
       "             │       │ ║  ║  ║ └╥┘┌─┐      \n",
       "q_xi_2: ─────┤4      ├─╫──╫──╫──╫─┤M├──────\n",
       "             │       │ ║  ║  ║  ║ └╥┘┌─┐   \n",
       "q_xi_3: ─────┤5      ├─╫──╫──╫──╫──╫─┤M├───\n",
       "             │       │ ║  ║  ║  ║  ║ └╥┘┌─┐\n",
       "q_xi_4: ─────┤6      ├─╫──╫──╫──╫──╫──╫─┤M├\n",
       "             └───────┘ ║  ║  ║  ║  ║  ║ └╥┘\n",
       "   i: 2/═══════════════╩══╩══╬══╬══╬══╬══╬═\n",
       "                       0  1  ║  ║  ║  ║  ║ \n",
       "  xi: 5/═════════════════════╩══╩══╩══╩══╩═\n",
       "                             0  1  2  3  4 "
      ]
     },
     "execution_count": 4,
     "metadata": {},
     "output_type": "execute_result"
    }
   ],
   "source": [
    "query_circ = QuantumCircuit(qram_circ.qregs[0])\n",
    "# equal supperposition on all indices\n",
    "query_circ.h(query_circ.qregs[0])\n",
    "\n",
    "# add the query in fron of the qram\n",
    "query_circ = qram_circ.compose(query_circ, qram_circ.qregs[0], front=True)\n",
    "# query_circ.append(qAdder(-1, query_circ.qregs[1].size), query_circ.qregs[1])\n",
    "\n",
    "# measure and get results of the queries\n",
    "query_circ.measure(query_circ.qregs[0], query_circ.cregs[0])\n",
    "query_circ.measure(query_circ.qregs[1], query_circ.cregs[1])\n",
    "\n",
    "query_circ.draw()"
   ]
  },
  {
   "cell_type": "code",
   "execution_count": 5,
   "metadata": {},
   "outputs": [
    {
     "name": "stdout",
     "output_type": "stream",
     "text": [
      "Original list:  [-3, 2, 5, 1]\n",
      "Query raw data:  {'11101 00': 257, '00101 10': 268, '00001 11': 227, '00010 01': 272}\n",
      "Decoded result: \n",
      "f[0]: -3\n",
      "f[2]: 5\n",
      "f[3]: 1\n",
      "f[1]: 2\n"
     ]
    }
   ],
   "source": [
    "print(\"Original list: \", ex_list)\n",
    "\n",
    "# run the circuit to get the result of the queries\n",
    "simulator = Aer.get_backend('qasm_simulator')\n",
    "result = execute(query_circ, simulator).result()\n",
    "counts = result.get_counts()\n",
    "# raw output in binary\n",
    "print(\"Query raw data: \", counts)\n",
    "\n",
    "# extract original classical data \n",
    "print(\"Decoded result: \")\n",
    "for xi_i in counts:\n",
    "    xi_bin, i_bin = xi_i.split(\" \")\n",
    "    \n",
    "    # have to consider the sign when convert back into integer \n",
    "    sign_bit = xi_bin[0]\n",
    "    xi = int(xi_bin[1:], 2)\n",
    "    if '1' == sign_bit:\n",
    "        xi = -(2**(len(xi_bin)-1) - xi)\n",
    "    # index is unsigned\n",
    "    i = int(i_bin, 2)\n",
    "\n",
    "    print(f\"f[{i}]: {xi}\")"
   ]
  },
  {
   "cell_type": "code",
   "execution_count": 6,
   "metadata": {},
   "outputs": [
    {
     "data": {
      "text/plain": [
       "'00010 01'"
      ]
     },
     "execution_count": 6,
     "metadata": {},
     "output_type": "execute_result"
    }
   ],
   "source": [
    "counts.most_frequent()"
   ]
  },
  {
   "attachments": {},
   "cell_type": "markdown",
   "metadata": {},
   "source": [
    "We can see the recovered data is exactly the same as the original list"
   ]
  },
  {
   "attachments": {},
   "cell_type": "markdown",
   "metadata": {},
   "source": [
    "## Quantum-classical Adder\n",
    "\n",
    "With classically given integer X, positive or negative, we want the adder to do:\n",
    "\n",
    "$$\n",
    "    \\ket{n} \\xrightarrow{} \\ket{n + X}\n",
    "$$\n",
    "\n",
    "There are many different methods, here we choose a implementation in fourier basis. Both the fourier transform defined by y-rotation and the addition circuit in such basis are proposed by Rich Rines & Isaac Chuang^[1]. Detailed implementation is in `ryQFTAdder.py`.\n",
    "\n",
    "[1]: Rines, R., & Chuang, I. (2018). High Performance Quantum Modular Multipliers. [arXiv:1801.01081](https://arxiv.org/abs/1801.01081)."
   ]
  },
  {
   "attachments": {},
   "cell_type": "markdown",
   "metadata": {},
   "source": [
    "## Solution\n",
    "\n",
    "### algorithm\n",
    "\n",
    "Now we have all the ingredients. Here's the algorithm to find the largest number from a list two integers `[a, b]` :\n",
    "\n",
    "1. Encode the list into qram.\n",
    "2. Randomly chooes an index `i`, query classically and let the result be `X`.\n",
    "3. Consctruct quantum circuit that has the same size as the qram of the list. Apply `H` on the index register.\n",
    "4. Apply the qram circuit.\n",
    "5. Apply quantum-classical adder to add `-X` to the data register of the circuit.\n",
    "6. Measure the index register, get `q_i`. Measure the highest bit, the sign bit, of the data register, get `sx_i`.\n",
    "7. If `q_i == i`, repeat step 2 to 6.\n",
    "8. If `q_i != i`, we check the value of `sx_i`. If `sx_i == 0`, the number on index `q_i` is the largest. If `sx_i == 1`, the number on index `i` is the largest.\n"
   ]
  },
  {
   "attachments": {},
   "cell_type": "markdown",
   "metadata": {},
   "source": [
    "### explanation\n",
    "\n",
    "After step 4, we'll quantum state ${1\\over \\sqrt{2}}\\ket{0}\\ket{a} + {1\\over \\sqrt{2}}\\ket{1}\\ket{b}$. After step 5 the state becomes ${1\\over \\sqrt{2}}\\ket{0}\\ket{a-X} + {1\\over \\sqrt{2}}\\ket{1}\\ket{b-X}$. After measurement, if we get the index register to be the same as the index we chose randoamly in step 2, then the we've got a number substracting itself on the data register. So we don't have any information on the comparision between two numbers. Hence when that happens, we have to repeat process 2 to 6 until we have `q_i != i`. When `q_i != i`, on the data register we get either `(a-b)` or `(b-a)`. And `sx_i` being `0` or `1` indicates `>` or `<`. Based on such information, we now know which number is the largest."
   ]
  },
  {
   "attachments": {},
   "cell_type": "markdown",
   "metadata": {},
   "source": [
    "### analysis\n",
    "\n",
    "- `q_i != i` happens with a probability $1\\over 2$, so on average we need to run the quantum circuit twice to get the largest number.\n",
    "- The number of qubit required for the algorithm is $O(\\log(\\max(a,b)))$ due to the implementation of qram.\n",
    "- This algorithm works for all kinds of number. Because both the qram and quantum-classical adder work for all integers, and the success rate is always $1\\over 2$, independent from the size of two integers."
   ]
  },
  {
   "attachments": {},
   "cell_type": "markdown",
   "metadata": {},
   "source": [
    "### implementation\n"
   ]
  },
  {
   "cell_type": "code",
   "execution_count": 7,
   "metadata": {},
   "outputs": [],
   "source": [
    "def find_the_largest_number(a, b, show_process: bool = False) -> int:\n",
    "\n",
    "    num_list = [a,b]\n",
    "\n",
    "    largest = None\n",
    "\n",
    "    while True:\n",
    "        i = random.randint(0, 1)\n",
    "        X = num_list[i]\n",
    "\n",
    "        # setup qram. 1 classical bit for storing sign bit\n",
    "        qram_list = toQRAM(num_list, 1)\n",
    "        \n",
    "        # setup the query\n",
    "        qQuery = QuantumCircuit(qram_list.qregs[0])\n",
    "        qQuery.h(qQuery.qregs[0])\n",
    "        \n",
    "        # query on the qram\n",
    "        qQuery = qram_list.compose(qQuery, qram_list.qregs[0], front=True)\n",
    "        \n",
    "        # apply add(-X)\n",
    "        qQuery.append(qAdder(-X, qQuery.qregs[1].size), qQuery.qregs[1])\n",
    "\n",
    "        qQuery.measure(qQuery.qregs[0], qQuery.cregs[0])\n",
    "        qQuery.measure(qQuery.qregs[1][-1], qQuery.cregs[1])\n",
    "        \n",
    "        # run qc only once and get result\n",
    "        res_query = execute(qQuery, simulator,shots=1).result().get_counts()\n",
    "        # get sign bit and index bit\n",
    "        res_sxi, res_qi= res_query.most_frequent().split(\" \")\n",
    "\n",
    "        # optional print\n",
    "        if show_process:\n",
    "            print(qQuery)\n",
    "            # print(\"raw data: \", res_query)\n",
    "            # print(f\"index: {res_qi}, sign: {res_sxi}\")\n",
    "\n",
    "        # did not get the compare result \n",
    "        if int(res_qi) == i:\n",
    "            continue\n",
    "\n",
    "        if res_sxi == '0':\n",
    "            largest = num_list[int(res_qi)]\n",
    "        else:\n",
    "            largest = num_list[i]\n",
    "\n",
    "        break\n",
    "\n",
    "\n",
    "    return largest"
   ]
  },
  {
   "attachments": {},
   "cell_type": "markdown",
   "metadata": {},
   "source": [
    "### some test cases"
   ]
  },
  {
   "cell_type": "code",
   "execution_count": 8,
   "metadata": {},
   "outputs": [
    {
     "name": "stdout",
     "output_type": "stream",
     "text": [
      "        ┌───┐┌───────┐           ┌─┐   \n",
      "   q_i: ┤ H ├┤0      ├───────────┤M├───\n",
      "        └───┘│       │┌─────────┐└╥┘   \n",
      "q_xi_0: ─────┤1      ├┤0        ├─╫────\n",
      "             │       ││         │ ║    \n",
      "q_xi_1: ─────┤2      ├┤1        ├─╫────\n",
      "             │  QRAM ││         │ ║    \n",
      "q_xi_2: ─────┤3      ├┤2 add(6) ├─╫────\n",
      "             │       ││         │ ║    \n",
      "q_xi_3: ─────┤4      ├┤3        ├─╫────\n",
      "             │       ││         │ ║ ┌─┐\n",
      "q_xi_4: ─────┤5      ├┤4        ├─╫─┤M├\n",
      "             └───────┘└─────────┘ ║ └╥┘\n",
      "   i: 1/══════════════════════════╩══╬═\n",
      "                                  0  ║ \n",
      "  xi: 1/═════════════════════════════╩═\n",
      "                                     0 \n"
     ]
    },
    {
     "data": {
      "text/plain": [
       "5"
      ]
     },
     "execution_count": 8,
     "metadata": {},
     "output_type": "execute_result"
    }
   ],
   "source": [
    "find_the_largest_number(5,-6, show_process=True)"
   ]
  },
  {
   "cell_type": "code",
   "execution_count": 9,
   "metadata": {},
   "outputs": [],
   "source": [
    "def test_find_the_largest_number(\n",
    "    int_range: int,\n",
    "    num_tests: int\n",
    "):  \n",
    "    \"\"\"\n",
    "        For two randomly generated integers in range `[-int_range, int_range]`, run the quantum algorithm vs the classical max function\n",
    "        to confirm the result is correct. The test will be run for `num_tests` times.\n",
    "    \"\"\"\n",
    "    print(\"Case a = b:\")\n",
    "    for i in range(num_tests):\n",
    "        a = random.randint(-int_range, int_range)\n",
    "        b = a\n",
    "\n",
    "        qMax = find_the_largest_number(a,b)\n",
    "        cMax = max(a,b)\n",
    "        print(f\"testcase-{i} [{a}, {b}]: qMax = {qMax}, cMax = {cMax}. Results agree: {qMax == cMax}\")\n",
    "\n",
    "\n",
    "    # random tests\n",
    "    print(\"\\nRandom test (a>b or a<b):\")\n",
    "    for i in range(num_tests):\n",
    "        a = random.randint(-int_range, int_range)\n",
    "        b = random.randint(-int_range, int_range)\n",
    "\n",
    "        qMax = find_the_largest_number(a,b)\n",
    "        cMax = max(a,b)\n",
    "        print(f\"testcase-{i} [{a}, {b}]: qMax = {qMax}, cMax = {cMax}. Results agree: {qMax == cMax}\")\n",
    "\n",
    "    return "
   ]
  },
  {
   "cell_type": "code",
   "execution_count": 10,
   "metadata": {},
   "outputs": [
    {
     "name": "stdout",
     "output_type": "stream",
     "text": [
      "Case a = b:\n",
      "testcase-0 [44, 44]: qMax = 44, cMax = 44. Results agree: True\n",
      "testcase-1 [-87, -87]: qMax = -87, cMax = -87. Results agree: True\n",
      "testcase-2 [-58, -58]: qMax = -58, cMax = -58. Results agree: True\n",
      "testcase-3 [-36, -36]: qMax = -36, cMax = -36. Results agree: True\n",
      "testcase-4 [-105, -105]: qMax = -105, cMax = -105. Results agree: True\n",
      "\n",
      "Random test (a>b or a<b):\n",
      "testcase-0 [-112, 93]: qMax = 93, cMax = 93. Results agree: True\n",
      "testcase-1 [-35, -35]: qMax = -35, cMax = -35. Results agree: True\n",
      "testcase-2 [-74, -39]: qMax = -39, cMax = -39. Results agree: True\n",
      "testcase-3 [90, 71]: qMax = 90, cMax = 90. Results agree: True\n",
      "testcase-4 [-71, -119]: qMax = -71, cMax = -71. Results agree: True\n"
     ]
    }
   ],
   "source": [
    "test_find_the_largest_number(128, 5)"
   ]
  },
  {
   "attachments": {},
   "cell_type": "markdown",
   "metadata": {},
   "source": [
    "## Conclusion\n",
    "\n",
    "Our proposed quantum algorithm do solve the problem."
   ]
  },
  {
   "attachments": {},
   "cell_type": "markdown",
   "metadata": {},
   "source": [
    "# Find the Largest Number (extented ver.)"
   ]
  },
  {
   "cell_type": "markdown",
   "metadata": {},
   "source": []
  }
 ],
 "metadata": {
  "kernelspec": {
   "display_name": "qiskit",
   "language": "python",
   "name": "python3"
  },
  "language_info": {
   "codemirror_mode": {
    "name": "ipython",
    "version": 3
   },
   "file_extension": ".py",
   "mimetype": "text/x-python",
   "name": "python",
   "nbconvert_exporter": "python",
   "pygments_lexer": "ipython3",
   "version": "3.9.10"
  },
  "orig_nbformat": 4,
  "vscode": {
   "interpreter": {
    "hash": "4d53771b0a959c74d5a1a5685a0fdf3ec4cd7130f69454c4b75ea681c090f182"
   }
  }
 },
 "nbformat": 4,
 "nbformat_minor": 2
}
