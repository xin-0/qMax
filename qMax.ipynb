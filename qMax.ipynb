{
 "cells": [
  {
   "cell_type": "code",
   "execution_count": 1,
   "metadata": {},
   "outputs": [],
   "source": [
    "from qiskit import QuantumCircuit, QuantumRegister, ClassicalRegister, Aer, execute\n",
    "from qiskit.circuit.quantumcircuit import QubitSpecifier\n",
    "from qiskit.circuit import Gate\n",
    "from qiskit.visualization import plot_histogram\n",
    "from typing import List\n",
    "\n",
    "import numpy as np\n",
    "import random\n",
    "\n",
    "from ryQFTAdder import *"
   ]
  },
  {
   "attachments": {},
   "cell_type": "markdown",
   "metadata": {},
   "source": [
    "# Find the Largest Number (basic ver.)\n",
    "\n",
    "This part demonstrate the quantum algorithm to solve task 1\n",
    "\n",
    "## QRAM\n",
    "\n",
    "We begin with defining how the data in the list can be accessed quantumly. Though a QRAM is not required for solving the original task 1, it will be used nontrivially when we extent the problem in the next section.\n",
    "\n",
    "We want a circuit $U_f$ such that:\n",
    "\n",
    "$$\n",
    "\\ket{i}\\ket{0} \\xrightarrow{U_f} \\ket{i}\\ket{f(i)}\n",
    "$$\n",
    "\n",
    "where $i$ is the index and $f(i)$ gives the ith number in the list.\n",
    "\n",
    "For each integer in the list, we choose basic/state encoding, the highest bit is sign bit. For example, 5 and -6 can be encoded as:\n",
    "\n",
    "$$\\begin{align*}\n",
    "5  &\\rightarrow \\ket{00101} \\\\\n",
    "-6 &\\rightarrow \\ket{11010}      \n",
    "\\end{align*}$$\n",
    "\n",
    "4 bits is enough to hold 5 and -6. Since we'll later do addition and subtraction between two numbers in the list, we use 1 extra bit to prevent overflow. The indeices will be encoded by state encoding and we encode the them into the ctrl bits of mcx gate. The control bit will be controlled by either '0' or '1' based on the state encoding of the index on that position."
   ]
  },
  {
   "cell_type": "code",
   "execution_count": 2,
   "metadata": {},
   "outputs": [],
   "source": [
    "\"\"\"\n",
    "Here is a general method to convert a list of number into quantum data.\n",
    "\n",
    "In this function, we used np.max to find the bound for the list, \n",
    "but such information is not encoded into the QRAM so the algorithm that we'll \n",
    "present in a moment to solve the problem will not lost any generality. And in practice \n",
    "the bound on integer is always predetermined by its type like 'int' in C usually represents \n",
    "integers from -2147483648 to 2147483647. The reason that we choose to dynamically determine \n",
    "the number of qubit is for compactness and clarity.\n",
    "\n",
    "\"\"\"\n",
    "\n",
    "def toQRAM(\n",
    "    data_list: List[int],\n",
    "    num_idx_cbit: int = None,\n",
    "    num_data_cbit: int = None\n",
    ") -> QuantumCircuit:\n",
    "    \"\"\"\n",
    "        returns the circuit U_f such that U_f|i>|0> = |i>|x_i>\n",
    "\n",
    "        Args:\n",
    "            data_list:\n",
    "                the list of number needs to be encoded\n",
    "\n",
    "            num_data_cbit:\n",
    "                size of the classical register of for the data qubit\n",
    "    \"\"\"\n",
    "    \n",
    "    # first construct qram as a gate \n",
    "\n",
    "    # define minimum number of qubit to represent all the integers in the list\n",
    "    bound = np.max(np.abs(data_list))\n",
    "    num_qubit_i = int(np.ceil(np.log2(len(data_list))))\n",
    "    num_qubit_xi = len(bin(bound)[2:]) + 2 # one for sign and one for preventing overflow\n",
    "\n",
    "    if None == num_idx_cbit:\n",
    "        num_idx_cbit = num_qubit_i\n",
    "    if None == num_data_cbit:\n",
    "        num_data_cbit = num_qubit_xi\n",
    "    \n",
    "    # define index and data quantum registers\n",
    "    reg_i  = QuantumRegister(num_qubit_i)\n",
    "    reg_xi = QuantumRegister(num_qubit_xi)\n",
    "    \n",
    "    qc = QuantumCircuit(reg_i, reg_xi, name=\"QRAM\")\n",
    "\n",
    "    for i, x in enumerate(data_list):\n",
    "        # convert index into binary and agree with the number of index qubit\n",
    "        i_bin = format(i, f'0{num_qubit_i}b') \n",
    "        # convert x_i into binary and agree with the number of data qubit\n",
    "        x_bin = bin(x & int('1' * num_qubit_xi, 2))[2:]\n",
    "\n",
    "        # determine which control bit is controlled by '0'\n",
    "        for i_bin_idx, i_bin_symbol in enumerate(reversed(i_bin)):\n",
    "            if '0' == i_bin_symbol:\n",
    "                qc.x(reg_i[i_bin_idx])\n",
    "        \n",
    "        # encode x_i\n",
    "        for x_bin_idx, x_bin_symbol in enumerate(reversed(x_bin)):\n",
    "            if '1' == x_bin_symbol:\n",
    "                qc.mcx(reg_i, reg_xi[x_bin_idx])\n",
    "        \n",
    "        # uncompute for the control bit\n",
    "        for i_bin_idx, i_bin_symbol in enumerate(reversed(i_bin)):\n",
    "            if '0' == i_bin_symbol:\n",
    "                qc.x(reg_i[i_bin_idx])\n",
    "\n",
    "    # define qram as a gate\n",
    "    qram_gate = qc.to_gate()\n",
    "\n",
    "    # using the qram gate, construct the full circuit \n",
    "    q_i  = QuantumRegister(num_qubit_i, \"q_i\")\n",
    "    q_xi = QuantumRegister(num_qubit_xi, \"q_xi\")\n",
    "    c_i = ClassicalRegister(num_idx_cbit, \"i\")\n",
    "    c_xi = ClassicalRegister(num_data_cbit, \"xi\") \n",
    "\n",
    "    full_circ = QuantumCircuit(q_i, q_xi, c_i, c_xi)\n",
    "    full_circ.append(qram_gate, range(full_circ.num_qubits))\n",
    "\n",
    "    return full_circ"
   ]
  },
  {
   "attachments": {},
   "cell_type": "markdown",
   "metadata": {},
   "source": [
    "For example the list [-3,2,5,-1] in the qram form will be:"
   ]
  },
  {
   "cell_type": "code",
   "execution_count": 3,
   "metadata": {},
   "outputs": [
    {
     "data": {
      "text/html": [
       "<pre style=\"word-wrap: normal;white-space: pre;background: #fff0;line-height: 1.1;font-family: &quot;Courier New&quot;,Courier,monospace\">        ┌───┐                    ┌───┐          ┌───┐          ┌───┐     \n",
       " q_i_0: ┤ X ├──■────■────■────■──┤ X ├───────■──┤ X ├──■────■──┤ X ├──■──\n",
       "        ├───┤  │    │    │    │  ├───┤┌───┐  │  ├───┤  │    │  └───┘  │  \n",
       " q_i_1: ┤ X ├──■────■────■────■──┤ X ├┤ X ├──■──┤ X ├──■────■─────────■──\n",
       "        └───┘┌─┴─┐  │    │    │  └───┘└───┘  │  └───┘┌─┴─┐  │       ┌─┴─┐\n",
       "q_xi_0: ─────┤ X ├──┼────┼────┼──────────────┼───────┤ X ├──┼───────┤ X ├\n",
       "             └───┘  │    │    │            ┌─┴─┐     └───┘  │       └───┘\n",
       "q_xi_1: ────────────┼────┼────┼────────────┤ X ├────────────┼────────────\n",
       "                  ┌─┴─┐  │    │            └───┘          ┌─┴─┐          \n",
       "q_xi_2: ──────────┤ X ├──┼────┼───────────────────────────┤ X ├──────────\n",
       "                  └───┘┌─┴─┐  │                           └───┘          \n",
       "q_xi_3: ───────────────┤ X ├──┼──────────────────────────────────────────\n",
       "                       └───┘┌─┴─┐                                        \n",
       "q_xi_4: ────────────────────┤ X ├────────────────────────────────────────\n",
       "                            └───┘                                        \n",
       "   i: 2/═════════════════════════════════════════════════════════════════\n",
       "                                                                         \n",
       "  xi: 5/═════════════════════════════════════════════════════════════════\n",
       "                                                                         </pre>"
      ],
      "text/plain": [
       "        ┌───┐                    ┌───┐          ┌───┐          ┌───┐     \n",
       " q_i_0: ┤ X ├──■────■────■────■──┤ X ├───────■──┤ X ├──■────■──┤ X ├──■──\n",
       "        ├───┤  │    │    │    │  ├───┤┌───┐  │  ├───┤  │    │  └───┘  │  \n",
       " q_i_1: ┤ X ├──■────■────■────■──┤ X ├┤ X ├──■──┤ X ├──■────■─────────■──\n",
       "        └───┘┌─┴─┐  │    │    │  └───┘└───┘  │  └───┘┌─┴─┐  │       ┌─┴─┐\n",
       "q_xi_0: ─────┤ X ├──┼────┼────┼──────────────┼───────┤ X ├──┼───────┤ X ├\n",
       "             └───┘  │    │    │            ┌─┴─┐     └───┘  │       └───┘\n",
       "q_xi_1: ────────────┼────┼────┼────────────┤ X ├────────────┼────────────\n",
       "                  ┌─┴─┐  │    │            └───┘          ┌─┴─┐          \n",
       "q_xi_2: ──────────┤ X ├──┼────┼───────────────────────────┤ X ├──────────\n",
       "                  └───┘┌─┴─┐  │                           └───┘          \n",
       "q_xi_3: ───────────────┤ X ├──┼──────────────────────────────────────────\n",
       "                       └───┘┌─┴─┐                                        \n",
       "q_xi_4: ────────────────────┤ X ├────────────────────────────────────────\n",
       "                            └───┘                                        \n",
       "   i: 2/═════════════════════════════════════════════════════════════════\n",
       "                                                                         \n",
       "  xi: 5/═════════════════════════════════════════════════════════════════\n",
       "                                                                         "
      ]
     },
     "execution_count": 3,
     "metadata": {},
     "output_type": "execute_result"
    }
   ],
   "source": [
    "ex_list = [-3, 2, 5, 1]\n",
    "\n",
    "qram_circ = toQRAM(ex_list)\n",
    "qram_circ.decompose().draw()"
   ]
  },
  {
   "attachments": {},
   "cell_type": "markdown",
   "metadata": {},
   "source": [
    "And we can confirm the qram indeed stores the desired data by making queries on all possible indices:"
   ]
  },
  {
   "cell_type": "code",
   "execution_count": 4,
   "metadata": {},
   "outputs": [
    {
     "data": {
      "text/html": [
       "<pre style=\"word-wrap: normal;white-space: pre;background: #fff0;line-height: 1.1;font-family: &quot;Courier New&quot;,Courier,monospace\">        ┌───┐┌───────┐┌─┐                  \n",
       " q_i_0: ┤ H ├┤0      ├┤M├──────────────────\n",
       "        ├───┤│       │└╥┘┌─┐               \n",
       " q_i_1: ┤ H ├┤1      ├─╫─┤M├───────────────\n",
       "        └───┘│       │ ║ └╥┘┌─┐            \n",
       "q_xi_0: ─────┤2      ├─╫──╫─┤M├────────────\n",
       "             │       │ ║  ║ └╥┘┌─┐         \n",
       "q_xi_1: ─────┤3 QRAM ├─╫──╫──╫─┤M├─────────\n",
       "             │       │ ║  ║  ║ └╥┘┌─┐      \n",
       "q_xi_2: ─────┤4      ├─╫──╫──╫──╫─┤M├──────\n",
       "             │       │ ║  ║  ║  ║ └╥┘┌─┐   \n",
       "q_xi_3: ─────┤5      ├─╫──╫──╫──╫──╫─┤M├───\n",
       "             │       │ ║  ║  ║  ║  ║ └╥┘┌─┐\n",
       "q_xi_4: ─────┤6      ├─╫──╫──╫──╫──╫──╫─┤M├\n",
       "             └───────┘ ║  ║  ║  ║  ║  ║ └╥┘\n",
       "   i: 2/═══════════════╩══╩══╬══╬══╬══╬══╬═\n",
       "                       0  1  ║  ║  ║  ║  ║ \n",
       "  xi: 5/═════════════════════╩══╩══╩══╩══╩═\n",
       "                             0  1  2  3  4 </pre>"
      ],
      "text/plain": [
       "        ┌───┐┌───────┐┌─┐                  \n",
       " q_i_0: ┤ H ├┤0      ├┤M├──────────────────\n",
       "        ├───┤│       │└╥┘┌─┐               \n",
       " q_i_1: ┤ H ├┤1      ├─╫─┤M├───────────────\n",
       "        └───┘│       │ ║ └╥┘┌─┐            \n",
       "q_xi_0: ─────┤2      ├─╫──╫─┤M├────────────\n",
       "             │       │ ║  ║ └╥┘┌─┐         \n",
       "q_xi_1: ─────┤3 QRAM ├─╫──╫──╫─┤M├─────────\n",
       "             │       │ ║  ║  ║ └╥┘┌─┐      \n",
       "q_xi_2: ─────┤4      ├─╫──╫──╫──╫─┤M├──────\n",
       "             │       │ ║  ║  ║  ║ └╥┘┌─┐   \n",
       "q_xi_3: ─────┤5      ├─╫──╫──╫──╫──╫─┤M├───\n",
       "             │       │ ║  ║  ║  ║  ║ └╥┘┌─┐\n",
       "q_xi_4: ─────┤6      ├─╫──╫──╫──╫──╫──╫─┤M├\n",
       "             └───────┘ ║  ║  ║  ║  ║  ║ └╥┘\n",
       "   i: 2/═══════════════╩══╩══╬══╬══╬══╬══╬═\n",
       "                       0  1  ║  ║  ║  ║  ║ \n",
       "  xi: 5/═════════════════════╩══╩══╩══╩══╩═\n",
       "                             0  1  2  3  4 "
      ]
     },
     "execution_count": 4,
     "metadata": {},
     "output_type": "execute_result"
    }
   ],
   "source": [
    "query_circ = QuantumCircuit(qram_circ.qregs[0])\n",
    "# equal superposition on all indices\n",
    "query_circ.h(query_circ.qregs[0])\n",
    "\n",
    "# add the query in fron of the qram\n",
    "query_circ = qram_circ.compose(query_circ, qram_circ.qregs[0], front=True)\n",
    "# query_circ.append(qAdder(-1, query_circ.qregs[1].size), query_circ.qregs[1])\n",
    "\n",
    "# measure and get results of the queries\n",
    "query_circ.measure(query_circ.qregs[0], query_circ.cregs[0])\n",
    "query_circ.measure(query_circ.qregs[1], query_circ.cregs[1])\n",
    "\n",
    "query_circ.draw()"
   ]
  },
  {
   "cell_type": "code",
   "execution_count": 5,
   "metadata": {},
   "outputs": [
    {
     "name": "stdout",
     "output_type": "stream",
     "text": [
      "Original list:  [-3, 2, 5, 1]\n",
      "Query raw data:  {'11101 00': 263, '00010 01': 249, '00001 11': 252, '00101 10': 260}\n",
      "Decoded result: \n",
      "f[0]: -3\n",
      "f[1]: 2\n",
      "f[3]: 1\n",
      "f[2]: 5\n"
     ]
    }
   ],
   "source": [
    "print(\"Original list: \", ex_list)\n",
    "\n",
    "# run the circuit to get the result of the queries\n",
    "simulator = Aer.get_backend('qasm_simulator')\n",
    "result = execute(query_circ, simulator).result()\n",
    "counts = result.get_counts()\n",
    "# raw output in binary\n",
    "print(\"Query raw data: \", counts)\n",
    "\n",
    "# extract original classical data \n",
    "print(\"Decoded result: \")\n",
    "for xi_i in counts:\n",
    "    xi_bin, i_bin = xi_i.split(\" \")\n",
    "    \n",
    "    # have to consider the sign when convert back into integer \n",
    "    sign_bit = xi_bin[0]\n",
    "    xi = int(xi_bin[1:], 2)\n",
    "    if '1' == sign_bit:\n",
    "        xi = -(2**(len(xi_bin)-1) - xi)\n",
    "    # index is unsigned\n",
    "    i = int(i_bin, 2)\n",
    "\n",
    "    print(f\"f[{i}]: {xi}\")"
   ]
  },
  {
   "attachments": {},
   "cell_type": "markdown",
   "metadata": {},
   "source": [
    "We can see the recovered data is exactly the same as the original list"
   ]
  },
  {
   "attachments": {},
   "cell_type": "markdown",
   "metadata": {},
   "source": [
    "## Quantum-classical Adder\n",
    "\n",
    "With classically given integer X, positive or negative, we want the adder to do:\n",
    "\n",
    "$$\n",
    "    \\ket{n} \\xrightarrow{} \\ket{n + X}\n",
    "$$\n",
    "\n",
    "There are many different methods, here we choose an implementation in fourier basis. Both the fourier transform defined by y-rotation and the addition circuit in such basis are proposed by Rich Rines & Isaac Chuang^[1]. Detailed implementation is in `ryQFTAdder.py`.\n",
    "\n",
    "[1]: Rines, R., & Chuang, I. (2018). High Performance Quantum Modular Multipliers. [arXiv:1801.01081](https://arxiv.org/abs/1801.01081)."
   ]
  },
  {
   "attachments": {},
   "cell_type": "markdown",
   "metadata": {},
   "source": [
    "## Quantum Comparator\n",
    "\n",
    "Now we want to implement a gate $U_{a<X}$ that encode the comparison result into phase:\n",
    "- partial version\n",
    "$$\n",
    "U_{a<X,p}\\ket{a} = (-1)^{a<X}\\ket{a-X}\n",
    "$$ \n",
    "\n",
    "- complete version\n",
    "$$\n",
    "U_{a<X,c}\\ket{a} = (-1)^{a<X}\\ket{a}\n",
    "$$\n",
    "\n",
    "They only differ by a quantum addition of `X`. The key idea for building both is to apply a `Z` gate on the highest data qubit after adding `-X` to $\\ket{a}$. When the highest bit of `(a - X)` is $1$, $a-X<0$, $a<X$, $-1$ phase is added. When the highest bit of `(a - X)` is $0$, $Z\\ket{0}=\\ket{0}$, no phase is added."
   ]
  },
  {
   "attachments": {},
   "cell_type": "markdown",
   "metadata": {},
   "source": [
    "### controlled quantum comparator\n",
    "\n",
    "The controlled quantum comparator is a unitary, $\\text{c-}U_{a<X}$, that applys quantum comparator when the control bit is $1$:\n",
    "\n",
    "- partial version\n",
    "$$\n",
    "\\text{c-}U_{a<X,p}\\ket{i}\\ket{a} = (-1)^{(a<X)\\cdot i}\\ket{i}\\ket{a-X}\n",
    "$$\n",
    "\n",
    "- full version\n",
    "$$\n",
    "\\text{c-}U_{a<X,c}\\ket{i}\\ket{a} = (-1)^{(a<X)\\cdot i}\\ket{i}\\ket{a}\n",
    "$$\n",
    "\n",
    "to get a controlled comparator, we only have to change the `Z` gate in the quantum comparator to a `CZ` gate controlled by the control bit $\\ket i$."
   ]
  },
  {
   "cell_type": "code",
   "execution_count": 6,
   "metadata": {},
   "outputs": [],
   "source": [
    "def partial_ctl_comparator(\n",
    "    X: int,\n",
    "    circuit: QuantumCircuit,\n",
    "    ctl_qubit: QubitSpecifier,\n",
    "    target_reg: QuantumRegister\n",
    "):\n",
    "    \"\"\"\n",
    "        |i>|a>  ---> (-1)^{(a<X)*i} |a - X >\n",
    "\n",
    "    \"\"\"\n",
    "\n",
    "    # |a> to | a - X >\n",
    "    circuit.append(qAdder(-X, target_reg.size), target_reg)\n",
    "    circuit.cz(ctl_qubit, target_reg[-1])\n",
    "\n",
    "    return\n",
    "\n",
    "def complete_ctl_comparator(\n",
    "    X: int,\n",
    "    circuit: QuantumCircuit,\n",
    "    ctl_qubit: QubitSpecifier,\n",
    "    target_reg: QuantumRegister\n",
    "):\n",
    "    \"\"\"\n",
    "        |i>|a>  ---> (-1)^{(a<X)*i} |a>\n",
    "\n",
    "    \"\"\"\n",
    "\n",
    "    # |a> to | a - X >\n",
    "    circuit.append(qAdder(-X, target_reg.size), target_reg)\n",
    "    circuit.cz(ctl_qubit, target_reg[-1])\n",
    "    circuit.append(qAdder(X, target_reg.size), target_reg)\n",
    "\n",
    "    return"
   ]
  },
  {
   "attachments": {},
   "cell_type": "markdown",
   "metadata": {},
   "source": [
    "Here is an example of a controlled partial comparator circuit. The result of `(-5 < -2)` will be stored in control qubit's phase when the control qubit is $\\ket{1}$."
   ]
  },
  {
   "cell_type": "code",
   "execution_count": 7,
   "metadata": {},
   "outputs": [
    {
     "data": {
      "text/html": [
       "<pre style=\"word-wrap: normal;white-space: pre;background: #fff0;line-height: 1.1;font-family: &quot;Courier New&quot;,Courier,monospace\">        ┌───────┐ ░               \n",
       "   q_i: ┤0      ├─░───────────────\n",
       "        │       │ ░ ┌─────────┐   \n",
       "q_xi_0: ┤1      ├─░─┤0        ├───\n",
       "        │       │ ░ │         │   \n",
       "q_xi_1: ┤2      ├─░─┤1        ├───\n",
       "        │  QRAM │ ░ │         │   \n",
       "q_xi_2: ┤3      ├─░─┤2 add(2) ├───\n",
       "        │       │ ░ │         │   \n",
       "q_xi_3: ┤4      ├─░─┤3        ├───\n",
       "        │       │ ░ │         │   \n",
       "q_xi_4: ┤5      ├─░─┤4        ├─■─\n",
       "        └───────┘ ░ └─────────┘ │ \n",
       "   ctl: ────────────────────────■─\n",
       "                                  </pre>"
      ],
      "text/plain": [
       "        ┌───────┐ ░               \n",
       "   q_i: ┤0      ├─░───────────────\n",
       "        │       │ ░ ┌─────────┐   \n",
       "q_xi_0: ┤1      ├─░─┤0        ├───\n",
       "        │       │ ░ │         │   \n",
       "q_xi_1: ┤2      ├─░─┤1        ├───\n",
       "        │  QRAM │ ░ │         │   \n",
       "q_xi_2: ┤3      ├─░─┤2 add(2) ├───\n",
       "        │       │ ░ │         │   \n",
       "q_xi_3: ┤4      ├─░─┤3        ├───\n",
       "        │       │ ░ │         │   \n",
       "q_xi_4: ┤5      ├─░─┤4        ├─■─\n",
       "        └───────┘ ░ └─────────┘ │ \n",
       "   ctl: ────────────────────────■─\n",
       "                                  "
      ]
     },
     "execution_count": 7,
     "metadata": {},
     "output_type": "execute_result"
    }
   ],
   "source": [
    "test_comp_circ = toQRAM([-5, 1], 0, 0)\n",
    "test_comp_circ.barrier()\n",
    "test_comp_circ.add_register(QuantumRegister(1, name=\"ctl\"))\n",
    "partial_ctl_comparator(\n",
    "    X = -2,\n",
    "    circuit= test_comp_circ,\n",
    "    ctl_qubit= test_comp_circ.qregs[-1][0],\n",
    "    target_reg= test_comp_circ.qregs[1]\n",
    ")\n",
    "\n",
    "test_comp_circ.draw()"
   ]
  },
  {
   "attachments": {},
   "cell_type": "markdown",
   "metadata": {},
   "source": [
    "## Solution\n",
    "\n",
    "The general idea is to implement a variation of the Deutsch's Algorithm. We first put $\\ket 0$ to superposition: $H\\ket{0}\\rightarrow {1\\over\\sqrt{2}}(\\ket{0}+\\ket{1})$. Then we can use controlled quantum comparator and another hadamard gate to exract the value of `(a < b)`."
   ]
  },
  {
   "attachments": {},
   "cell_type": "markdown",
   "metadata": {},
   "source": [
    "### algorithm\n",
    "\n",
    "Now we have all the ingredients. Here's the algorithm to find the largest number from a list two integers `[a, b]` :\n",
    "\n",
    "1. Let the index qubit in the default $\\ket 0$ state. Apply qram circuit for the list `[a, b]`.\n",
    "2. Use an extra qubit in $\\ket{+}$ state to apply a (partial) controlled quantum comparator with `X = b` on the data register of the qram.\n",
    "3. Apply `H` on the extra qubit.\n",
    "4. Measure the extra qubit.\n",
    "5. If the measurement result is `1`, `b` is the largest. If the measurement result is `0`, `a` is the largest."
   ]
  },
  {
   "attachments": {},
   "cell_type": "markdown",
   "metadata": {},
   "source": [
    "### explanation\n",
    "\n",
    "$$ \n",
    "\\ket{0}\\ket{a} \n",
    "\\xrightarrow{H} {1\\over\\sqrt{2}}(\\ket{0} + \\ket{1})\\ket{a} \n",
    "\\xrightarrow{cU_{a<b,p}} {1\\over\\sqrt{2}}(\\ket{0} +(-1)^{a<b}\\ket{1})\\ket{a-b}\n",
    "\\xrightarrow{H} \\ket{a<b}\\ket{a-b}\n",
    "$$"
   ]
  },
  {
   "attachments": {},
   "cell_type": "markdown",
   "metadata": {},
   "source": [
    "### analysis\n",
    "\n",
    "- The success rate for this algorithm is $1$ and we only have to run the quantum circuit for once.\n",
    "- The number of qubit required for the algorithm is $O(\\log(\\max(a,b)))$ due to the implementation of qram.\n",
    "- This algorithm works for all kinds of number. Because the qram, quantum-classical adder and the quantum comparator work for all integers."
   ]
  },
  {
   "attachments": {},
   "cell_type": "markdown",
   "metadata": {},
   "source": [
    "### implementation\n"
   ]
  },
  {
   "cell_type": "code",
   "execution_count": 8,
   "metadata": {},
   "outputs": [],
   "source": [
    "def find_the_largest_number(a, b, show_process: bool = False) -> int:\n",
    "\n",
    "    num_list = [a,b]\n",
    "\n",
    "    # step 1. |0>|a>\n",
    "    qc = toQRAM(num_list, 0, 0)\n",
    "\n",
    "    # step 2. |0>|a>(|0> + |1>)/√2  --> |0>|(a - b)>(|0> + (-1)^(a<b)|1>)/√2\n",
    "    qc.add_register(QuantumRegister(1, name= \"comp\"))\n",
    "    qc.h(qc.qregs[-1])\n",
    "    qc.add_register(ClassicalRegister(1, name= \"a<b\"))\n",
    "\n",
    "    partial_ctl_comparator(\n",
    "        X          = b,\n",
    "        circuit    = qc,\n",
    "        ctl_qubit  = qc.qregs[-1][0],\n",
    "        target_reg = qc.qregs[1]\n",
    "    )\n",
    "\n",
    "    # step 3. |0>|(a - b)>(|0> + (-1)^(a<b) |1>)/√2 --> |0>|(a - b)>|(a<b)>\n",
    "    qc.h(qc.qregs[-1])\n",
    "\n",
    "    # step 4. get measurement result of (b>a)\n",
    "    qc.measure(qc.qregs[-1], qc.cregs[-1])\n",
    "    # we only need to run the circuit once\n",
    "    backend = Aer.get_backend('qasm_simulator')\n",
    "    comp_result = execute(qc, backend,shots=1).result().get_counts()\n",
    "    aLb = comp_result.most_frequent()[0]\n",
    "\n",
    "    # optional print\n",
    "    if show_process:\n",
    "        print(qc)\n",
    "        print(\"raw data: \", comp_result)\n",
    "        print(f\"a<b: {aLb}\")\n",
    "\n",
    "    # step 5. decide which one is the largest\n",
    "    if '1' == aLb:\n",
    "        return b\n",
    "\n",
    "    return a"
   ]
  },
  {
   "attachments": {},
   "cell_type": "markdown",
   "metadata": {},
   "source": [
    "### some test cases"
   ]
  },
  {
   "cell_type": "code",
   "execution_count": 9,
   "metadata": {},
   "outputs": [
    {
     "name": "stdout",
     "output_type": "stream",
     "text": [
      "        ┌───────┐                      \n",
      "   q_i: ┤0      ├──────────────────────\n",
      "        │       │┌─────────┐           \n",
      "q_xi_0: ┤1      ├┤0        ├───────────\n",
      "        │       ││         │           \n",
      "q_xi_1: ┤2      ├┤1        ├───────────\n",
      "        │  QRAM ││         │           \n",
      "q_xi_2: ┤3      ├┤2 add(6) ├───────────\n",
      "        │       ││         │           \n",
      "q_xi_3: ┤4      ├┤3        ├───────────\n",
      "        │       ││         │           \n",
      "q_xi_4: ┤5      ├┤4        ├─■─────────\n",
      "        └─┬───┬─┘└─────────┘ │ ┌───┐┌─┐\n",
      "  comp: ──┤ H ├──────────────■─┤ H ├┤M├\n",
      "          └───┘                └───┘└╥┘\n",
      " a<b: 1/═════════════════════════════╩═\n",
      "                                     0 \n",
      "raw data:  {'0  ': 1}\n",
      "a<b: 0\n"
     ]
    },
    {
     "data": {
      "text/plain": [
       "5"
      ]
     },
     "execution_count": 9,
     "metadata": {},
     "output_type": "execute_result"
    }
   ],
   "source": [
    "find_the_largest_number(5, -6, show_process=True)"
   ]
  },
  {
   "cell_type": "code",
   "execution_count": 10,
   "metadata": {},
   "outputs": [],
   "source": [
    "def test_find_the_largest_number(\n",
    "    int_range: int,\n",
    "    num_tests: int\n",
    "):  \n",
    "    \"\"\"\n",
    "        For two randomly generated integers in range `[-int_range, int_range]`, run the quantum algorithm vs the classical max function\n",
    "        to confirm the result is correct. The test will be run for `num_tests` times.\n",
    "    \"\"\"\n",
    "    print(\"Case a = b:\")\n",
    "    for i in range(num_tests):\n",
    "        a = random.randint(-int_range, int_range)\n",
    "        b = a\n",
    "\n",
    "        qMax = find_the_largest_number(a,b)\n",
    "        cMax = max(a,b)\n",
    "        print(f\"testcase-{i} [{a}, {b}]: qMax = {qMax}, cMax = {cMax}. Results agree: {qMax == cMax}\")\n",
    "\n",
    "\n",
    "    # random tests\n",
    "    print(\"\\nRandom test (a>b or a<b):\")\n",
    "    for i in range(num_tests):\n",
    "        a = random.randint(-int_range, int_range)\n",
    "        b = random.randint(-int_range, int_range)\n",
    "\n",
    "        qMax = find_the_largest_number(a,b)\n",
    "        cMax = max(a,b)\n",
    "        print(f\"testcase-{i} [{a}, {b}]: qMax = {qMax}, cMax = {cMax}. Results agree: {qMax == cMax}\")\n",
    "\n",
    "    return "
   ]
  },
  {
   "cell_type": "code",
   "execution_count": 11,
   "metadata": {},
   "outputs": [
    {
     "name": "stdout",
     "output_type": "stream",
     "text": [
      "Case a = b:\n",
      "testcase-0 [-34, -34]: qMax = -34, cMax = -34. Results agree: True\n",
      "testcase-1 [93, 93]: qMax = 93, cMax = 93. Results agree: True\n",
      "testcase-2 [-82, -82]: qMax = -82, cMax = -82. Results agree: True\n",
      "testcase-3 [-13, -13]: qMax = -13, cMax = -13. Results agree: True\n",
      "testcase-4 [-31, -31]: qMax = -31, cMax = -31. Results agree: True\n",
      "\n",
      "Random test (a>b or a<b):\n",
      "testcase-0 [59, -32]: qMax = 59, cMax = 59. Results agree: True\n",
      "testcase-1 [-128, -127]: qMax = -127, cMax = -127. Results agree: True\n",
      "testcase-2 [2, -65]: qMax = 2, cMax = 2. Results agree: True\n",
      "testcase-3 [11, 121]: qMax = 121, cMax = 121. Results agree: True\n",
      "testcase-4 [21, 125]: qMax = 125, cMax = 125. Results agree: True\n"
     ]
    }
   ],
   "source": [
    "test_find_the_largest_number(128, 5)"
   ]
  },
  {
   "attachments": {},
   "cell_type": "markdown",
   "metadata": {},
   "source": [
    "## Conclusion\n",
    "\n",
    "Analysis and data both show that the proposed algorithm do solve the problem."
   ]
  },
  {
   "attachments": {},
   "cell_type": "markdown",
   "metadata": {},
   "source": [
    "# Find the Largest Number (extented ver.)"
   ]
  }
 ],
 "metadata": {
  "kernelspec": {
   "display_name": "qiskit",
   "language": "python",
   "name": "python3"
  },
  "language_info": {
   "codemirror_mode": {
    "name": "ipython",
    "version": 3
   },
   "file_extension": ".py",
   "mimetype": "text/x-python",
   "name": "python",
   "nbconvert_exporter": "python",
   "pygments_lexer": "ipython3",
   "version": "3.9.10"
  },
  "orig_nbformat": 4,
  "vscode": {
   "interpreter": {
    "hash": "4d53771b0a959c74d5a1a5685a0fdf3ec4cd7130f69454c4b75ea681c090f182"
   }
  }
 },
 "nbformat": 4,
 "nbformat_minor": 2
}
